{
 "cells": [
  {
   "cell_type": "markdown",
   "metadata": {},
   "source": [
    "# # Box Office Mojo WebScraping/Analysis"
   ]
  },
  {
   "cell_type": "code",
   "execution_count": 36,
   "metadata": {},
   "outputs": [],
   "source": [
    "#Start Webscraping"
   ]
  },
  {
   "cell_type": "code",
   "execution_count": 37,
   "metadata": {},
   "outputs": [],
   "source": [
    "import pandas as pd\n",
    "import requests\n",
    "page = requests.get('https://www.boxofficemojo.com/year/2018/?grossesOption=totalGrosses&sortDir=asc&sort=releaseDate&ref_=bo_yld__resort')\n",
    "page2 = requests.get('https://www.boxofficemojo.com/year/2019/?grossesOption=totalGrosses&sortDir=asc&sort=releaseDate&ref_=bo_yld__resort')\n"
   ]
  },
  {
   "cell_type": "code",
   "execution_count": 38,
   "metadata": {},
   "outputs": [
    {
     "data": {
      "text/plain": [
       "200"
      ]
     },
     "execution_count": 38,
     "metadata": {},
     "output_type": "execute_result"
    }
   ],
   "source": [
    "page2.status_code"
   ]
  },
  {
   "cell_type": "code",
   "execution_count": 39,
   "metadata": {},
   "outputs": [],
   "source": [
    "from bs4 import BeautifulSoup as BS\n",
    "url = \"https://www.boxofficemojo.com/year/2018/?sort=gross&ref_=bo_yld__resort#table\"\n",
    "page=requests.get(url)\n",
    "soup = BS(page.content, 'html.parser')\n",
    "url2 = \"https://www.boxofficemojo.com/year/2019/?sort=gross&ref_=bo_yld__resort#table\"\n",
    "page2=requests.get(url2)\n",
    "soup2 = BS(page2.content, 'html.parser')"
   ]
  },
  {
   "cell_type": "code",
   "execution_count": 40,
   "metadata": {},
   "outputs": [],
   "source": [
    "#Making lists from the scraped Data"
   ]
  },
  {
   "cell_type": "code",
   "execution_count": 41,
   "metadata": {},
   "outputs": [],
   "source": [
    "titles = soup.find_all(class_='a-text-left mojo-field-type-release mojo-cell-wide')\n",
    "titles2 = soup2.find_all(class_='a-text-left mojo-field-type-release mojo-cell-wide')\n",
    "all_titles = []\n",
    "for title in titles:\n",
    "    all_titles.append(title.select('a')[0].string)\n",
    "all_titles_2 = []\n",
    "for title in titles2:\n",
    "    all_titles_2.append(title.select('a')[0].string)\n"
   ]
  },
  {
   "cell_type": "code",
   "execution_count": 42,
   "metadata": {},
   "outputs": [],
   "source": [
    "gross = soup.find_all(class_='a-text-right mojo-field-type-money mojo-estimatable')\n",
    "gross_2 = soup2.find_all(class_='a-text-right mojo-field-type-money mojo-estimatable')\n",
    "gross_list = []\n",
    "for i in gross:\n",
    "    gross_list.append(i.string)\n",
    "gross_list2 = []\n",
    "for i in gross_2:\n",
    "    gross_list2.append(i.string)"
   ]
  },
  {
   "cell_type": "code",
   "execution_count": 43,
   "metadata": {},
   "outputs": [],
   "source": [
    "theaters = soup.find_all(class_='a-text-right mojo-field-type-positive_integer')\n",
    "theaters2 = soup2.find_all(class_='a-text-right mojo-field-type-positive_integer')\n",
    "theater_list = []\n",
    "for i in theaters:\n",
    "    theater_list.append(i.string)\n",
    "theater_list2 = []\n",
    "for i in theaters2:\n",
    "    theater_list2.append(i.string)"
   ]
  },
  {
   "cell_type": "code",
   "execution_count": 44,
   "metadata": {},
   "outputs": [],
   "source": [
    "release_date = soup.find_all(class_ = 'a-text-left mojo-field-type-date a-nowrap')\n",
    "release_date2 = soup2.find_all(class_ = 'a-text-left mojo-field-type-date a-nowrap')\n",
    "release_date_list = []\n",
    "for i in release_date:\n",
    "    release_date_list.append(i.string)\n",
    "release_date_list2 = []\n",
    "for i in release_date2:\n",
    "    release_date_list2.append(i.string)"
   ]
  },
  {
   "cell_type": "code",
   "execution_count": 45,
   "metadata": {},
   "outputs": [],
   "source": [
    "distributor = soup.find_all(class_ = 'a-text-left mojo-field-type-studio')\n",
    "distributor2 = soup2.find_all(class_ = 'a-text-left mojo-field-type-studio')\n",
    "distributor_list = []\n",
    "for i in distributor:\n",
    "    distributor_list.append(i.get_text())\n",
    "distributor_list2 = []\n",
    "for i in distributor2:\n",
    "    distributor_list2.append(i.get_text())"
   ]
  },
  {
   "cell_type": "code",
   "execution_count": 46,
   "metadata": {},
   "outputs": [],
   "source": [
    "#create the dataFrame "
   ]
  },
  {
   "cell_type": "code",
   "execution_count": 47,
   "metadata": {},
   "outputs": [],
   "source": [
    "import numpy as np\n",
    "movies_2018 = pd.DataFrame(list(zip(all_titles, gross_list, theater_list, release_date_list, distributor_list)),\n",
    "                           columns =['Movie_Title','Gross_Revenue', 'Amount_of_Theaters', 'Realease_Date', 'Distributor'],)\n",
    "movies_2019 = pd.DataFrame(list(zip(all_titles_2, gross_list2, theater_list2, release_date_list2, distributor_list2)),\n",
    "                           columns =['Movie_Title','Gross_Revenue', 'Amount_of_Theaters', 'Realease_Date', 'Distributor'],)"
   ]
  },
  {
   "cell_type": "code",
   "execution_count": 48,
   "metadata": {},
   "outputs": [
    {
     "data": {
      "text/html": [
       "<div>\n",
       "<style scoped>\n",
       "    .dataframe tbody tr th:only-of-type {\n",
       "        vertical-align: middle;\n",
       "    }\n",
       "\n",
       "    .dataframe tbody tr th {\n",
       "        vertical-align: top;\n",
       "    }\n",
       "\n",
       "    .dataframe thead th {\n",
       "        text-align: right;\n",
       "    }\n",
       "</style>\n",
       "<table border=\"1\" class=\"dataframe\">\n",
       "  <thead>\n",
       "    <tr style=\"text-align: right;\">\n",
       "      <th></th>\n",
       "      <th>Movie_Title</th>\n",
       "      <th>Gross_Revenue</th>\n",
       "      <th>Amount_of_Theaters</th>\n",
       "      <th>Realease_Date</th>\n",
       "      <th>Distributor</th>\n",
       "    </tr>\n",
       "  </thead>\n",
       "  <tbody>\n",
       "    <tr>\n",
       "      <th>0</th>\n",
       "      <td>Avengers: Endgame</td>\n",
       "      <td>$858,373,000</td>\n",
       "      <td>4,662</td>\n",
       "      <td>Apr 26</td>\n",
       "      <td>Walt Disney Studios Motion Pictures\\n\\n</td>\n",
       "    </tr>\n",
       "    <tr>\n",
       "      <th>1</th>\n",
       "      <td>The Lion King</td>\n",
       "      <td>$543,638,043</td>\n",
       "      <td>4,802</td>\n",
       "      <td>Jul 19</td>\n",
       "      <td>Walt Disney Studios Motion Pictures\\n\\n</td>\n",
       "    </tr>\n",
       "    <tr>\n",
       "      <th>2</th>\n",
       "      <td>Toy Story 4</td>\n",
       "      <td>$434,038,008</td>\n",
       "      <td>4,575</td>\n",
       "      <td>Jun 21</td>\n",
       "      <td>Walt Disney Studios Motion Pictures\\n\\n</td>\n",
       "    </tr>\n",
       "    <tr>\n",
       "      <th>3</th>\n",
       "      <td>Frozen II</td>\n",
       "      <td>$477,373,578</td>\n",
       "      <td>4,440</td>\n",
       "      <td>Nov 22</td>\n",
       "      <td>Walt Disney Studios Motion Pictures\\n\\n</td>\n",
       "    </tr>\n",
       "    <tr>\n",
       "      <th>4</th>\n",
       "      <td>Captain Marvel</td>\n",
       "      <td>$426,829,839</td>\n",
       "      <td>4,310</td>\n",
       "      <td>Mar 8</td>\n",
       "      <td>Walt Disney Studios Motion Pictures\\n\\n</td>\n",
       "    </tr>\n",
       "    <tr>\n",
       "      <th>...</th>\n",
       "      <td>...</td>\n",
       "      <td>...</td>\n",
       "      <td>...</td>\n",
       "      <td>...</td>\n",
       "      <td>...</td>\n",
       "    </tr>\n",
       "    <tr>\n",
       "      <th>195</th>\n",
       "      <td>Welcome to Marwen</td>\n",
       "      <td>$10,763,520</td>\n",
       "      <td>1,911</td>\n",
       "      <td>Dec 21</td>\n",
       "      <td>Universal Pictures\\n\\n</td>\n",
       "    </tr>\n",
       "    <tr>\n",
       "      <th>196</th>\n",
       "      <td>My People, My Country</td>\n",
       "      <td>$2,356,683</td>\n",
       "      <td>83</td>\n",
       "      <td>Oct 1</td>\n",
       "      <td>-</td>\n",
       "    </tr>\n",
       "    <tr>\n",
       "      <th>197</th>\n",
       "      <td>Promare</td>\n",
       "      <td>$2,313,596</td>\n",
       "      <td>701</td>\n",
       "      <td>Sep 17</td>\n",
       "      <td>GKIDS\\n\\n</td>\n",
       "    </tr>\n",
       "    <tr>\n",
       "      <th>198</th>\n",
       "      <td>Super 30</td>\n",
       "      <td>$2,269,878</td>\n",
       "      <td>317</td>\n",
       "      <td>Jul 12</td>\n",
       "      <td>Reliance Big Pictures\\n\\n</td>\n",
       "    </tr>\n",
       "    <tr>\n",
       "      <th>199</th>\n",
       "      <td>Faustina: Love and Mercy</td>\n",
       "      <td>$2,243,180</td>\n",
       "      <td>810</td>\n",
       "      <td>Oct 28</td>\n",
       "      <td>Fathom Events\\n\\n</td>\n",
       "    </tr>\n",
       "  </tbody>\n",
       "</table>\n",
       "<p>200 rows × 5 columns</p>\n",
       "</div>"
      ],
      "text/plain": [
       "                  Movie_Title Gross_Revenue Amount_of_Theaters Realease_Date  \\\n",
       "0           Avengers: Endgame  $858,373,000              4,662        Apr 26   \n",
       "1               The Lion King  $543,638,043              4,802        Jul 19   \n",
       "2                 Toy Story 4  $434,038,008              4,575        Jun 21   \n",
       "3                   Frozen II  $477,373,578              4,440        Nov 22   \n",
       "4              Captain Marvel  $426,829,839              4,310         Mar 8   \n",
       "..                        ...           ...                ...           ...   \n",
       "195         Welcome to Marwen   $10,763,520              1,911        Dec 21   \n",
       "196     My People, My Country    $2,356,683                 83         Oct 1   \n",
       "197                   Promare    $2,313,596                701        Sep 17   \n",
       "198                  Super 30    $2,269,878                317        Jul 12   \n",
       "199  Faustina: Love and Mercy    $2,243,180                810        Oct 28   \n",
       "\n",
       "                                 Distributor  \n",
       "0    Walt Disney Studios Motion Pictures\\n\\n  \n",
       "1    Walt Disney Studios Motion Pictures\\n\\n  \n",
       "2    Walt Disney Studios Motion Pictures\\n\\n  \n",
       "3    Walt Disney Studios Motion Pictures\\n\\n  \n",
       "4    Walt Disney Studios Motion Pictures\\n\\n  \n",
       "..                                       ...  \n",
       "195                   Universal Pictures\\n\\n  \n",
       "196                                        -  \n",
       "197                                GKIDS\\n\\n  \n",
       "198                Reliance Big Pictures\\n\\n  \n",
       "199                        Fathom Events\\n\\n  \n",
       "\n",
       "[200 rows x 5 columns]"
      ]
     },
     "execution_count": 48,
     "metadata": {},
     "output_type": "execute_result"
    }
   ],
   "source": [
    "movies_2019"
   ]
  },
  {
   "cell_type": "code",
   "execution_count": 49,
   "metadata": {},
   "outputs": [],
   "source": [
    "#set the index"
   ]
  },
  {
   "cell_type": "code",
   "execution_count": 50,
   "metadata": {},
   "outputs": [],
   "source": [
    "movies_2018.set_index('Movie_Title', inplace = True)\n",
    "movies_2019.set_index('Movie_Title', inplace = True)"
   ]
  },
  {
   "cell_type": "code",
   "execution_count": 19,
   "metadata": {},
   "outputs": [],
   "source": [
    "#No nulls. No duplicates. Moving on to changing datatypes for gross revenue, amount of theaters, and release date."
   ]
  },
  {
   "cell_type": "code",
   "execution_count": 52,
   "metadata": {},
   "outputs": [],
   "source": [
    "movies_2018['Gross_Revenue'] = movies_2018['Gross_Revenue'].str.replace(r'$', '')\n",
    "movies_2018['Gross_Revenue'] = movies_2018['Gross_Revenue'].str.replace(r',', '')\n",
    "movies_2019['Gross_Revenue'] = movies_2019['Gross_Revenue'].str.replace(r'$', '')\n",
    "movies_2019['Gross_Revenue'] = movies_2019['Gross_Revenue'].str.replace(r',', '')"
   ]
  },
  {
   "cell_type": "code",
   "execution_count": 54,
   "metadata": {},
   "outputs": [],
   "source": [
    "movies_2018['Amount_of_Theaters'] = movies_2018['Amount_of_Theaters'].str.replace(r',', '')\n",
    "movies_2019['Amount_of_Theaters'] = movies_2019['Amount_of_Theaters'].str.replace(r',', '')\n",
    "movies_2018['Distributor'] = movies_2018['Distributor'].str.rstrip('\\n\\n')\n",
    "movies_2019['Distributor'] = movies_2019['Distributor'].str.rstrip('\\n\\n')"
   ]
  },
  {
   "cell_type": "code",
   "execution_count": 55,
   "metadata": {},
   "outputs": [
    {
     "name": "stdout",
     "output_type": "stream",
     "text": [
      "<class 'pandas.core.frame.DataFrame'>\n",
      "Index: 200 entries, Avengers: Endgame to Faustina: Love and Mercy\n",
      "Data columns (total 4 columns):\n",
      " #   Column              Non-Null Count  Dtype \n",
      "---  ------              --------------  ----- \n",
      " 0   Gross_Revenue       200 non-null    object\n",
      " 1   Amount_of_Theaters  200 non-null    object\n",
      " 2   Realease_Date       200 non-null    object\n",
      " 3   Distributor         200 non-null    object\n",
      "dtypes: object(4)\n",
      "memory usage: 7.8+ KB\n"
     ]
    }
   ],
   "source": [
    "movies_2019.info()"
   ]
  },
  {
   "cell_type": "code",
   "execution_count": 35,
   "metadata": {},
   "outputs": [],
   "source": [
    "#convert to integers"
   ]
  },
  {
   "cell_type": "code",
   "execution_count": 63,
   "metadata": {},
   "outputs": [],
   "source": [
    "movies_2018['Gross_Revenue'] = pd.to_numeric(movies_2018['Gross_Revenue'])\n",
    "movies_2019['Gross_Revenue'] = pd.to_numeric(movies_2019['Gross_Revenue'])\n",
    "movies_2018['Amount_of_Theaters'] = pd.to_numeric(movies_2018['Amount_of_Theaters'])\n",
    "movies_2019['Amount_of_Theaters'] = pd.to_numeric(movies_2019['Amount_of_Theaters'])\n",
    "movies_2018['Realease_Date'] = movies_2018.Realease_Date.astype(str)\n",
    "movies_2019['Realease_Date'] = movies_2019.Realease_Date.astype(str)\n"
   ]
  },
  {
   "cell_type": "code",
   "execution_count": 64,
   "metadata": {},
   "outputs": [
    {
     "name": "stdout",
     "output_type": "stream",
     "text": [
      "<class 'pandas.core.frame.DataFrame'>\n",
      "Index: 200 entries, Avengers: Endgame to Faustina: Love and Mercy\n",
      "Data columns (total 4 columns):\n",
      " #   Column              Non-Null Count  Dtype \n",
      "---  ------              --------------  ----- \n",
      " 0   Gross_Revenue       200 non-null    int64 \n",
      " 1   Amount_of_Theaters  200 non-null    int64 \n",
      " 2   Realease_Date       200 non-null    object\n",
      " 3   Distributor         200 non-null    object\n",
      "dtypes: int64(2), object(2)\n",
      "memory usage: 7.8+ KB\n"
     ]
    }
   ],
   "source": [
    "movies_2019.info()"
   ]
  },
  {
   "cell_type": "code",
   "execution_count": 28,
   "metadata": {},
   "outputs": [],
   "source": [
    "movies_2018['Realease_Date'] = movies_2018.Realease_Date.astype(str)\n",
    "movies_2019['Realease_Date'] = movies_2019.Realease_Date.astype(str)"
   ]
  },
  {
   "cell_type": "code",
   "execution_count": 67,
   "metadata": {},
   "outputs": [],
   "source": [
    "#convert months to abbreviations"
   ]
  },
  {
   "cell_type": "code",
   "execution_count": 68,
   "metadata": {},
   "outputs": [],
   "source": [
    "movies_2018['Realease_Date'] = movies_2018['Realease_Date'].map(lambda x: str(x)[0:3])\n",
    "movies_2019['Realease_Date'] = movies_2019['Realease_Date'].map(lambda x: str(x)[0:3])"
   ]
  },
  {
   "cell_type": "code",
   "execution_count": null,
   "metadata": {},
   "outputs": [],
   "source": [
    "#count of the top grossing movies by month"
   ]
  },
  {
   "cell_type": "code",
   "execution_count": 71,
   "metadata": {},
   "outputs": [],
   "source": [
    "top_grossing_2018 = movies_2018['Realease_Date'].value_counts()\n",
    "top_grossing_2019 = movies_2019['Realease_Date'].value_counts()"
   ]
  },
  {
   "cell_type": "code",
   "execution_count": 72,
   "metadata": {},
   "outputs": [],
   "source": [
    "movies_2018['Year']= 2018\n",
    "movies_2019['Year']= 2019"
   ]
  },
  {
   "cell_type": "code",
   "execution_count": 73,
   "metadata": {},
   "outputs": [],
   "source": [
    "#concat the DataFrames"
   ]
  },
  {
   "cell_type": "code",
   "execution_count": 74,
   "metadata": {},
   "outputs": [],
   "source": [
    "df = pd.concat([movies_2018,movies_2019])"
   ]
  },
  {
   "cell_type": "code",
   "execution_count": 75,
   "metadata": {},
   "outputs": [],
   "source": [
    "#We have the most Top Grossing Movies in December and November. The problem now is we have to see if that is\n",
    "#because they released the most movies during that time frame or were they on par for the same amount of realeases\n",
    "#as the other months"
   ]
  },
  {
   "cell_type": "code",
   "execution_count": 76,
   "metadata": {},
   "outputs": [],
   "source": [
    "#Time to scrape some more data to get the total releases per month for calendar years 2018 and 2019"
   ]
  },
  {
   "cell_type": "code",
   "execution_count": 77,
   "metadata": {},
   "outputs": [
    {
     "data": {
      "text/plain": [
       "200"
      ]
     },
     "execution_count": 77,
     "metadata": {},
     "output_type": "execute_result"
    }
   ],
   "source": [
    "page3 = requests.get('https://www.boxofficemojo.com/month/by-year/2018/?grossesOption=calendarGrosses')\n",
    "page3.status_code"
   ]
  },
  {
   "cell_type": "code",
   "execution_count": 78,
   "metadata": {},
   "outputs": [],
   "source": [
    "url3 = \"https://www.boxofficemojo.com/month/by-year/2018/?grossesOption=calendarGrosses\"\n",
    "page3=requests.get(url3)\n",
    "soup3 = BS(page3.content, 'html.parser')\n",
    "url4 = \"https://www.boxofficemojo.com/month/by-year/2019/?grossesOption=calendarGrosses\"\n",
    "page4=requests.get(url4)\n",
    "soup4 = BS(page4.content, 'html.parser')"
   ]
  },
  {
   "cell_type": "code",
   "execution_count": 79,
   "metadata": {},
   "outputs": [],
   "source": [
    "months = soup3.find_all(class_='a-text-left mojo-header-column mojo-truncate mojo-field-type-named_interval mojo-sort-column')"
   ]
  },
  {
   "cell_type": "code",
   "execution_count": 80,
   "metadata": {},
   "outputs": [],
   "source": [
    "month_list_2018 = []\n",
    "for i in months:\n",
    "    month_list_2018.append(i.get_text())"
   ]
  },
  {
   "cell_type": "code",
   "execution_count": 81,
   "metadata": {},
   "outputs": [],
   "source": [
    "amount_of_realeases = soup3.find_all(class_='a-text-right mojo-field-type-positive_integer')\n",
    "amount_of_realeases2 = soup4.find_all(class_='a-text-right mojo-field-type-positive_integer')\n",
    "#the second one is for 2019, the first is 2018"
   ]
  },
  {
   "cell_type": "code",
   "execution_count": 82,
   "metadata": {},
   "outputs": [],
   "source": [
    "amount_of_realeases_2018 =[]\n",
    "for i in amount_of_realeases:\n",
    "    amount_of_realeases_2018.append(i.get_text())\n",
    "amount_of_realeases_2019 =[]\n",
    "for i in amount_of_realeases2:\n",
    "    amount_of_realeases_2019.append(i.get_text())\n"
   ]
  },
  {
   "cell_type": "code",
   "execution_count": 83,
   "metadata": {},
   "outputs": [],
   "source": [
    "#New DataFrame with the info"
   ]
  },
  {
   "cell_type": "code",
   "execution_count": 84,
   "metadata": {},
   "outputs": [],
   "source": [
    "number_of_releases = pd.DataFrame(list(zip(month_list_2018, amount_of_realeases_2018, amount_of_realeases_2019,)),\n",
    "                           columns =['Months','Releases_in_2018', 'Releases_in_2019', ])\n",
    "topGrossingValues = pd.DataFrame(list(zip(top_grossing_2018, top_grossing_2019)),\n",
    "                           columns =['Releases_in_2018', 'Releases_in_2019', ])\n"
   ]
  },
  {
   "cell_type": "code",
   "execution_count": 87,
   "metadata": {},
   "outputs": [],
   "source": [
    "topGrossingValues2019 = pd.DataFrame(top_grossing_2019)\n",
    "topGrossingValues2018= pd.DataFrame(top_grossing_2018)\n",
    "topGrossingValues2018.reset_index(inplace =True)\n",
    "topGrossingValues2019.reset_index(inplace = True)\n",
    "topGrossingValues2018.rename(columns ={'index':'Months'}, inplace = True)\n",
    "topGrossingValues2019.rename(columns ={'index':'Months'}, inplace = True)\n",
    "tgv18_19 = topGrossingValues2018.merge(topGrossingValues2019, on = 'Months',)"
   ]
  },
  {
   "cell_type": "code",
   "execution_count": 90,
   "metadata": {},
   "outputs": [],
   "source": [
    "#merge with the previously scraped DataFrame so that we're only working on one"
   ]
  },
  {
   "cell_type": "code",
   "execution_count": 93,
   "metadata": {},
   "outputs": [],
   "source": [
    "number_of_releases['Months']=number_of_releases['Months'].map(lambda x: str(x)[0:3])\n",
    "releases = number_of_releases.merge(tgv18_19,on ='Months')\n",
    "releases['Releases_in_2018'] = releases['Releases_in_2018'].astype(int)\n",
    "releases['Releases_in_2019'] = releases['Releases_in_2019'].astype(int)\n",
    "releases['sum_of_releases'] = releases['Releases_in_2018'] +releases['Releases_in_2019']\n",
    "releases['sum_of_top_grossing'] = releases['Realease_Date_x'] + releases['Realease_Date_y']\n",
    "releases['percent_of_top_grossing_movies_released'] = round((releases['sum_of_top_grossing']/releases['sum_of_releases'])*100,2)\n",
    "releases = releases.sort_index(ascending = False)"
   ]
  },
  {
   "cell_type": "code",
   "execution_count": 94,
   "metadata": {},
   "outputs": [
    {
     "data": {
      "text/plain": [
       "Text(0.5, 1.0, 'Percentage of Top 200 Grossing Movies in 2018/2019 by Month')"
      ]
     },
     "execution_count": 94,
     "metadata": {},
     "output_type": "execute_result"
    },
    {
     "data": {
      "image/png": "[encoded data removed]",
      "text/plain": [
       "<Figure size 1440x720 with 1 Axes>"
      ]
     },
     "metadata": {
      "needs_background": "light"
     },
     "output_type": "display_data"
    }
   ],
   "source": [
    "import matplotlib.pyplot as plt\n",
    "fig, ax =plt.subplots(figsize=(20,10))\n",
    "ax.bar(releases['Months'],height = releases['percent_of_top_grossing_movies_released'])\n",
    "ax.set_ylim(0,20)\n",
    "for index,data in enumerate(releases['percent_of_top_grossing_movies_released']):\n",
    "    plt.text(x=index , y =data+.1 , s=f\"{data}\"+'%' , fontdict=dict(fontsize=10))\n",
    "ax.set_xlabel('Month')\n",
    "ax.set_ylabel('Percentage')\n",
    "ax.set_title('Percentage of Top 200 Grossing Movies in 2018/2019 by Month')"
   ]
  },
  {
   "cell_type": "code",
   "execution_count": null,
   "metadata": {},
   "outputs": [],
   "source": []
  }
 ],
 "metadata": {
  "kernelspec": {
   "display_name": "Python 3",
   "language": "python",
   "name": "python3"
  },
  "language_info": {
   "codemirror_mode": {
    "name": "ipython",
    "version": 3
   },
   "file_extension": ".py",
   "mimetype": "text/x-python",
   "name": "python",
   "nbconvert_exporter": "python",
   "pygments_lexer": "ipython3",
   "version": "3.8.5"
  }
 },
 "nbformat": 4,
 "nbformat_minor": 4
}
