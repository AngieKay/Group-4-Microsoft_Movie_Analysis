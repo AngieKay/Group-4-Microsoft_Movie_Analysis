{
 "cells": [
  {
   "cell_type": "markdown",
   "metadata": {},
   "source": [
    "# # Box Office Mojo WebScraping/Analysis"
   ]
  },
  {
   "cell_type": "code",
   "execution_count": 69,
   "metadata": {},
   "outputs": [],
   "source": [
    "#Start Webscraping"
   ]
  },
  {
   "cell_type": "code",
   "execution_count": 3,
   "metadata": {},
   "outputs": [],
   "source": [
    "import pandas as pd\n",
    "from matplotlib import pyplot as plt\n",
    "import numpy as np\n",
    "import requests\n",
    "page = requests.get('https://www.boxofficemojo.com/year/2018/?grossesOption=totalGrosses&sortDir=asc&sort=releaseDate&ref_=bo_yld__resort')\n",
    "page2 = requests.get('https://www.boxofficemojo.com/year/2019/?grossesOption=totalGrosses&sortDir=asc&sort=releaseDate&ref_=bo_yld__resort')\n"
   ]
  },
  {
   "cell_type": "code",
   "execution_count": 71,
   "metadata": {},
   "outputs": [
    {
     "data": {
      "text/plain": [
       "200"
      ]
     },
     "execution_count": 71,
     "metadata": {},
     "output_type": "execute_result"
    }
   ],
   "source": [
    "page2.status_code"
   ]
  },
  {
   "cell_type": "code",
   "execution_count": 72,
   "metadata": {},
   "outputs": [],
   "source": [
    "from bs4 import BeautifulSoup as BS\n",
    "url = \"https://www.boxofficemojo.com/year/2018/?sort=gross&ref_=bo_yld__resort#table\"\n",
    "page=requests.get(url)\n",
    "soup = BS(page.content, 'html.parser')\n",
    "url2 = \"https://www.boxofficemojo.com/year/2019/?sort=gross&ref_=bo_yld__resort#table\"\n",
    "page2=requests.get(url2)\n",
    "soup2 = BS(page2.content, 'html.parser')"
   ]
  },
  {
   "cell_type": "code",
   "execution_count": 73,
   "metadata": {},
   "outputs": [],
   "source": [
    "#Making lists from the scraped Data"
   ]
  },
  {
   "cell_type": "code",
   "execution_count": 74,
   "metadata": {},
   "outputs": [],
   "source": [
    "titles = soup.find_all(class_='a-text-left mojo-field-type-release mojo-cell-wide')\n",
    "titles2 = soup2.find_all(class_='a-text-left mojo-field-type-release mojo-cell-wide')\n",
    "all_titles = []\n",
    "for title in titles:\n",
    "    all_titles.append(title.select('a')[0].string)\n",
    "all_titles_2 = []\n",
    "for title in titles2:\n",
    "    all_titles_2.append(title.select('a')[0].string)\n"
   ]
  },
  {
   "cell_type": "code",
   "execution_count": 75,
   "metadata": {},
   "outputs": [],
   "source": [
    "gross = soup.find_all(class_='a-text-right mojo-field-type-money mojo-estimatable')\n",
    "gross_2 = soup2.find_all(class_='a-text-right mojo-field-type-money mojo-estimatable')\n",
    "gross_list = []\n",
    "for i in gross:\n",
    "    gross_list.append(i.string)\n",
    "gross_list2 = []\n",
    "for i in gross_2:\n",
    "    gross_list2.append(i.string)"
   ]
  },
  {
   "cell_type": "code",
   "execution_count": 76,
   "metadata": {},
   "outputs": [],
   "source": [
    "theaters = soup.find_all(class_='a-text-right mojo-field-type-positive_integer')\n",
    "theaters2 = soup2.find_all(class_='a-text-right mojo-field-type-positive_integer')\n",
    "theater_list = []\n",
    "for i in theaters:\n",
    "    theater_list.append(i.string)\n",
    "theater_list2 = []\n",
    "for i in theaters2:\n",
    "    theater_list2.append(i.string)"
   ]
  },
  {
   "cell_type": "code",
   "execution_count": 77,
   "metadata": {},
   "outputs": [],
   "source": [
    "release_date = soup.find_all(class_ = 'a-text-left mojo-field-type-date a-nowrap')\n",
    "release_date2 = soup2.find_all(class_ = 'a-text-left mojo-field-type-date a-nowrap')\n",
    "release_date_list = []\n",
    "for i in release_date:\n",
    "    release_date_list.append(i.string)\n",
    "release_date_list2 = []\n",
    "for i in release_date2:\n",
    "    release_date_list2.append(i.string)"
   ]
  },
  {
   "cell_type": "code",
   "execution_count": 78,
   "metadata": {},
   "outputs": [],
   "source": [
    "distributor = soup.find_all(class_ = 'a-text-left mojo-field-type-studio')\n",
    "distributor2 = soup2.find_all(class_ = 'a-text-left mojo-field-type-studio')\n",
    "distributor_list = []\n",
    "for i in distributor:\n",
    "    distributor_list.append(i.get_text())\n",
    "distributor_list2 = []\n",
    "for i in distributor2:\n",
    "    distributor_list2.append(i.get_text())"
   ]
  },
  {
   "cell_type": "code",
   "execution_count": 79,
   "metadata": {},
   "outputs": [],
   "source": [
    "#create the dataFrame "
   ]
  },
  {
   "cell_type": "code",
   "execution_count": 80,
   "metadata": {},
   "outputs": [],
   "source": [
    "import numpy as np\n",
    "movies_2018 = pd.DataFrame(list(zip(all_titles, gross_list, theater_list, release_date_list, distributor_list)),\n",
    "                           columns =['Movie_Title','Gross_Revenue', 'Amount_of_Theaters', 'Realease_Date', 'Distributor'],)\n",
    "movies_2019 = pd.DataFrame(list(zip(all_titles_2, gross_list2, theater_list2, release_date_list2, distributor_list2)),\n",
    "                           columns =['Movie_Title','Gross_Revenue', 'Amount_of_Theaters', 'Realease_Date', 'Distributor'],)"
   ]
  },
  {
   "cell_type": "code",
   "execution_count": 81,
   "metadata": {},
   "outputs": [],
   "source": [
    "#set the index"
   ]
  },
  {
   "cell_type": "code",
   "execution_count": 82,
   "metadata": {},
   "outputs": [],
   "source": [
    "movies_2018.set_index('Movie_Title', inplace = True)\n",
    "movies_2019.set_index('Movie_Title', inplace = True)"
   ]
  },
  {
   "cell_type": "code",
   "execution_count": 83,
   "metadata": {},
   "outputs": [],
   "source": [
    "#No nulls. No duplicates. Moving on to changing datatypes for gross revenue, amount of theaters, and release date."
   ]
  },
  {
   "cell_type": "code",
   "execution_count": 84,
   "metadata": {},
   "outputs": [],
   "source": [
    "movies_2018['Gross_Revenue'] = movies_2018['Gross_Revenue'].str.replace(r'$', '')\n",
    "movies_2018['Gross_Revenue'] = movies_2018['Gross_Revenue'].str.replace(r',', '')\n",
    "movies_2019['Gross_Revenue'] = movies_2019['Gross_Revenue'].str.replace(r'$', '')\n",
    "movies_2019['Gross_Revenue'] = movies_2019['Gross_Revenue'].str.replace(r',', '')"
   ]
  },
  {
   "cell_type": "code",
   "execution_count": 85,
   "metadata": {},
   "outputs": [],
   "source": [
    "movies_2018['Amount_of_Theaters'] = movies_2018['Amount_of_Theaters'].str.replace(r',', '')\n",
    "movies_2019['Amount_of_Theaters'] = movies_2019['Amount_of_Theaters'].str.replace(r',', '')\n",
    "movies_2018['Distributor'] = movies_2018['Distributor'].str.rstrip('\\n\\n')\n",
    "movies_2019['Distributor'] = movies_2019['Distributor'].str.rstrip('\\n\\n')"
   ]
  },
  {
   "cell_type": "code",
   "execution_count": 86,
   "metadata": {},
   "outputs": [
    {
     "name": "stdout",
     "output_type": "stream",
     "text": [
      "<class 'pandas.core.frame.DataFrame'>\n",
      "Index: 200 entries, Avengers: Endgame to Faustina: Love and Mercy\n",
      "Data columns (total 4 columns):\n",
      " #   Column              Non-Null Count  Dtype \n",
      "---  ------              --------------  ----- \n",
      " 0   Gross_Revenue       200 non-null    object\n",
      " 1   Amount_of_Theaters  200 non-null    object\n",
      " 2   Realease_Date       200 non-null    object\n",
      " 3   Distributor         200 non-null    object\n",
      "dtypes: object(4)\n",
      "memory usage: 7.8+ KB\n"
     ]
    }
   ],
   "source": [
    "movies_2019.info()"
   ]
  },
  {
   "cell_type": "code",
   "execution_count": 87,
   "metadata": {},
   "outputs": [],
   "source": [
    "#convert to integers"
   ]
  },
  {
   "cell_type": "code",
   "execution_count": 88,
   "metadata": {},
   "outputs": [],
   "source": [
    "movies_2018['Gross_Revenue'] = pd.to_numeric(movies_2018['Gross_Revenue'])\n",
    "movies_2019['Gross_Revenue'] = pd.to_numeric(movies_2019['Gross_Revenue'])\n",
    "movies_2018['Amount_of_Theaters'] = pd.to_numeric(movies_2018['Amount_of_Theaters'])\n",
    "movies_2019['Amount_of_Theaters'] = pd.to_numeric(movies_2019['Amount_of_Theaters'])\n",
    "movies_2018['Realease_Date'] = movies_2018.Realease_Date.astype(str)\n",
    "movies_2019['Realease_Date'] = movies_2019.Realease_Date.astype(str)\n"
   ]
  },
  {
   "cell_type": "code",
   "execution_count": 89,
   "metadata": {},
   "outputs": [
    {
     "name": "stdout",
     "output_type": "stream",
     "text": [
      "<class 'pandas.core.frame.DataFrame'>\n",
      "Index: 200 entries, Avengers: Endgame to Faustina: Love and Mercy\n",
      "Data columns (total 4 columns):\n",
      " #   Column              Non-Null Count  Dtype \n",
      "---  ------              --------------  ----- \n",
      " 0   Gross_Revenue       200 non-null    int64 \n",
      " 1   Amount_of_Theaters  200 non-null    int64 \n",
      " 2   Realease_Date       200 non-null    object\n",
      " 3   Distributor         200 non-null    object\n",
      "dtypes: int64(2), object(2)\n",
      "memory usage: 7.8+ KB\n"
     ]
    }
   ],
   "source": [
    "movies_2019.info()"
   ]
  },
  {
   "cell_type": "code",
   "execution_count": 90,
   "metadata": {},
   "outputs": [],
   "source": [
    "movies_2018['Realease_Date'] = movies_2018.Realease_Date.astype(str)\n",
    "movies_2019['Realease_Date'] = movies_2019.Realease_Date.astype(str)"
   ]
  },
  {
   "cell_type": "code",
   "execution_count": 91,
   "metadata": {},
   "outputs": [],
   "source": [
    "#convert months to abbreviations"
   ]
  },
  {
   "cell_type": "code",
   "execution_count": 92,
   "metadata": {},
   "outputs": [],
   "source": [
    "movies_2018['Realease_Date'] = movies_2018['Realease_Date'].map(lambda x: str(x)[0:3])\n",
    "movies_2019['Realease_Date'] = movies_2019['Realease_Date'].map(lambda x: str(x)[0:3])"
   ]
  },
  {
   "cell_type": "code",
   "execution_count": 93,
   "metadata": {},
   "outputs": [],
   "source": [
    "#count of the top grossing movies by month"
   ]
  },
  {
   "cell_type": "code",
   "execution_count": 94,
   "metadata": {},
   "outputs": [],
   "source": [
    "top_grossing_2018 = movies_2018['Realease_Date'].value_counts()\n",
    "top_grossing_2019 = movies_2019['Realease_Date'].value_counts()"
   ]
  },
  {
   "cell_type": "code",
   "execution_count": 95,
   "metadata": {},
   "outputs": [],
   "source": [
    "movies_2018['Year']= 2018\n",
    "movies_2019['Year']= 2019"
   ]
  },
  {
   "cell_type": "code",
   "execution_count": 96,
   "metadata": {},
   "outputs": [],
   "source": [
    "#concat the DataFrames"
   ]
  },
  {
   "cell_type": "code",
   "execution_count": 97,
   "metadata": {},
   "outputs": [],
   "source": [
    "df = pd.concat([movies_2018,movies_2019])"
   ]
  },
  {
   "cell_type": "code",
   "execution_count": 98,
   "metadata": {},
   "outputs": [],
   "source": [
    "#We have the most Top Grossing Movies in December and November. The problem now is we have to see if that is\n",
    "#because they released the most movies during that time frame or were they on par for the same amount of realeases\n",
    "#as the other months"
   ]
  },
  {
   "cell_type": "code",
   "execution_count": 99,
   "metadata": {},
   "outputs": [],
   "source": [
    "#Time to scrape some more data to get the total releases per month for calendar years 2018 and 2019"
   ]
  },
  {
   "cell_type": "code",
   "execution_count": 100,
   "metadata": {},
   "outputs": [
    {
     "data": {
      "text/plain": [
       "200"
      ]
     },
     "execution_count": 100,
     "metadata": {},
     "output_type": "execute_result"
    }
   ],
   "source": [
    "page3 = requests.get('https://www.boxofficemojo.com/month/by-year/2018/?grossesOption=calendarGrosses')\n",
    "page3.status_code"
   ]
  },
  {
   "cell_type": "code",
   "execution_count": 101,
   "metadata": {},
   "outputs": [],
   "source": [
    "url3 = \"https://www.boxofficemojo.com/month/by-year/2018/?grossesOption=calendarGrosses\"\n",
    "page3=requests.get(url3)\n",
    "soup3 = BS(page3.content, 'html.parser')\n",
    "url4 = \"https://www.boxofficemojo.com/month/by-year/2019/?grossesOption=calendarGrosses\"\n",
    "page4=requests.get(url4)\n",
    "soup4 = BS(page4.content, 'html.parser')"
   ]
  },
  {
   "cell_type": "code",
   "execution_count": 102,
   "metadata": {},
   "outputs": [],
   "source": [
    "months = soup3.find_all(class_='a-text-left mojo-header-column mojo-truncate mojo-field-type-named_interval mojo-sort-column')"
   ]
  },
  {
   "cell_type": "code",
   "execution_count": 103,
   "metadata": {},
   "outputs": [],
   "source": [
    "month_list_2018 = []\n",
    "for i in months:\n",
    "    month_list_2018.append(i.get_text())"
   ]
  },
  {
   "cell_type": "code",
   "execution_count": 104,
   "metadata": {},
   "outputs": [],
   "source": [
    "amount_of_realeases = soup3.find_all(class_='a-text-right mojo-field-type-positive_integer')\n",
    "amount_of_realeases2 = soup4.find_all(class_='a-text-right mojo-field-type-positive_integer')\n",
    "#the second one is for 2019, the first is 2018"
   ]
  },
  {
   "cell_type": "code",
   "execution_count": 105,
   "metadata": {},
   "outputs": [],
   "source": [
    "amount_of_realeases_2018 =[]\n",
    "for i in amount_of_realeases:\n",
    "    amount_of_realeases_2018.append(i.get_text())\n",
    "amount_of_realeases_2019 =[]\n",
    "for i in amount_of_realeases2:\n",
    "    amount_of_realeases_2019.append(i.get_text())\n"
   ]
  },
  {
   "cell_type": "code",
   "execution_count": 106,
   "metadata": {},
   "outputs": [],
   "source": [
    "#New DataFrame with the info"
   ]
  },
  {
   "cell_type": "code",
   "execution_count": 107,
   "metadata": {},
   "outputs": [],
   "source": [
    "number_of_releases = pd.DataFrame(list(zip(month_list_2018, amount_of_realeases_2018, amount_of_realeases_2019,)),\n",
    "                           columns =['Months','Releases_in_2018', 'Releases_in_2019', ])\n",
    "topGrossingValues = pd.DataFrame(list(zip(top_grossing_2018, top_grossing_2019)),\n",
    "                           columns =['Releases_in_2018', 'Releases_in_2019', ])\n"
   ]
  },
  {
   "cell_type": "code",
   "execution_count": 108,
   "metadata": {},
   "outputs": [],
   "source": [
    "topGrossingValues2019 = pd.DataFrame(top_grossing_2019)\n",
    "topGrossingValues2018= pd.DataFrame(top_grossing_2018)\n",
    "topGrossingValues2018.reset_index(inplace =True)\n",
    "topGrossingValues2019.reset_index(inplace = True)\n",
    "topGrossingValues2018.rename(columns ={'index':'Months'}, inplace = True)\n",
    "topGrossingValues2019.rename(columns ={'index':'Months'}, inplace = True)\n",
    "tgv18_19 = topGrossingValues2018.merge(topGrossingValues2019, on = 'Months',)"
   ]
  },
  {
   "cell_type": "code",
   "execution_count": 109,
   "metadata": {},
   "outputs": [],
   "source": [
    "#merge with the previously scraped DataFrame so that we're only working on one"
   ]
  },
  {
   "cell_type": "code",
   "execution_count": 110,
   "metadata": {},
   "outputs": [],
   "source": [
    "number_of_releases['Months']=number_of_releases['Months'].map(lambda x: str(x)[0:3])\n",
    "releases = number_of_releases.merge(tgv18_19,on ='Months')\n",
    "releases['Releases_in_2018'] = releases['Releases_in_2018'].astype(int)\n",
    "releases['Releases_in_2019'] = releases['Releases_in_2019'].astype(int)\n",
    "releases['sum_of_releases'] = releases['Releases_in_2018'] +releases['Releases_in_2019']\n",
    "releases['sum_of_top_grossing'] = releases['Realease_Date_x'] + releases['Realease_Date_y']\n",
    "releases['percent_of_top_grossing_movies_released'] = round((releases['sum_of_top_grossing']/releases['sum_of_releases'])*100,2)\n",
    "releases = releases.sort_index(ascending = False)"
   ]
  },
  {
   "cell_type": "code",
   "execution_count": 111,
   "metadata": {},
   "outputs": [],
   "source": [
    "#Create Graph"
   ]
  },
  {
   "cell_type": "code",
   "execution_count": 112,
   "metadata": {},
   "outputs": [
    {
     "data": {
      "text/plain": [
       "Text(0.5, 1.0, 'Chance that an individual movie will reach top 200 status for that year')"
      ]
     },
     "execution_count": 112,
     "metadata": {},
     "output_type": "execute_result"
    },
    {
     "data": {
      "image/png": "[encoded data removed]",
      "text/plain": [
       "<Figure size 1296x720 with 1 Axes>"
      ]
     },
     "metadata": {
      "needs_background": "light"
     },
     "output_type": "display_data"
    }
   ],
   "source": [
    "import matplotlib.pyplot as plt\n",
    "fig, ax =plt.subplots(figsize=(18,10))\n",
    "ax.bar(releases['Months'],height = releases['percent_of_top_grossing_movies_released'])\n",
    "ax.set_ylim(0,20)\n",
    "for index,data in enumerate(releases['percent_of_top_grossing_movies_released']):\n",
    "    plt.text(x=index , y =data+.1 , s=f\"{data}\"+'%' , fontdict=dict(fontsize=13))\n",
    "ax.set_xlabel('Month', size = 15)\n",
    "ax.set_ylabel('Percentage', size =15)\n",
    "ax.set_title('Chance that an individual movie will reach top 200 status for that year', size =20)"
   ]
  },
  {
   "cell_type": "code",
   "execution_count": 113,
   "metadata": {},
   "outputs": [],
   "source": [
    "#Reading in a new DataFrame"
   ]
  },
  {
   "cell_type": "code",
   "execution_count": 114,
   "metadata": {},
   "outputs": [],
   "source": [
    "df_budgets = pd.read_csv('data/zippedData/tn.movie_budgets.csv.gz')"
   ]
  },
  {
   "cell_type": "markdown",
   "metadata": {},
   "source": [
    "# Budget Data"
   ]
  },
  {
   "cell_type": "raw",
   "metadata": {},
   "source": [
    "The budgets dataframe comes the public dataset on the-numbers.com that includes over 5000 movies from 1975 and their corresponding production budget, domestic gross and worldwide gross. "
   ]
  },
  {
   "cell_type": "markdown",
   "metadata": {},
   "source": [
    "# Data Cleaning"
   ]
  },
  {
   "cell_type": "raw",
   "metadata": {},
   "source": [
    "For the df_budgets file, we removed the dollar signs and commas from the three columns containing amounts of USD. Afterwards, we transformed these values from strings to integers so we could work with them mathematically.\n",
    "\n",
    "We then found the difference between worldwide gross and production budget and used it to create a new column displaying a film's total profit"
   ]
  },
  {
   "cell_type": "code",
   "execution_count": 115,
   "metadata": {},
   "outputs": [],
   "source": [
    "df_budgets['production_budget'] = df_budgets['production_budget'].str.replace('$','')\n",
    "df_budgets['domestic_gross'] = df_budgets['domestic_gross'].str.replace('$','')\n",
    "df_budgets['worldwide_gross'] = df_budgets['worldwide_gross'].str.replace('$','')\n",
    "df_budgets['production_budget'] = df_budgets['production_budget'].str.replace(',','')\n",
    "df_budgets['domestic_gross'] = df_budgets['domestic_gross'].str.replace(',','')\n",
    "df_budgets['worldwide_gross'] = df_budgets['worldwide_gross'].str.replace(',','')"
   ]
  },
  {
   "cell_type": "code",
   "execution_count": 116,
   "metadata": {},
   "outputs": [],
   "source": [
    "df_budgets['production_budget'] = df_budgets['production_budget'].astype(int)\n",
    "df_budgets['domestic_gross'] = df_budgets['domestic_gross'].astype(int)\n",
    "df_budgets['worldwide_gross'] = df_budgets['worldwide_gross'].astype(int)\n",
    "\n",
    "df_budgets['total_profit'] = df_budgets['worldwide_gross'] - df_budgets['production_budget']"
   ]
  },
  {
   "cell_type": "raw",
   "metadata": {},
   "source": [
    "# Afterwards, we created a new column that indicates the year the movie was made in, taken from the release_date column. Since we wanted our analysis to reflect the current public and did not want to account for inflation rates, we decided to only use data starting in 2010."
   ]
  },
  {
   "cell_type": "code",
   "execution_count": 117,
   "metadata": {},
   "outputs": [],
   "source": [
    "df_budgets['year'] = pd.DatetimeIndex(df_budgets['release_date']).year\n",
    "df_budgets = df_budgets.loc[df_budgets['year'] >= 2010]"
   ]
  },
  {
   "cell_type": "raw",
   "metadata": {},
   "source": [
    "We then created a return on investment column ('ROI %') that measure's the ratio of overall profit compared to production budget."
   ]
  },
  {
   "cell_type": "code",
   "execution_count": 118,
   "metadata": {},
   "outputs": [],
   "source": [
    "df_budgets['ROI %'] = (df_budgets['total_profit'] / df_budgets['production_budget']) * 100"
   ]
  },
  {
   "cell_type": "markdown",
   "metadata": {},
   "source": [
    "# Worth Spending the Big Buck$?"
   ]
  },
  {
   "cell_type": "raw",
   "metadata": {},
   "source": [
    "To look at whether or not producing films with the most expensive budgets would be worth it, we created a new data frame that only included movies that had a production budget of $150 million or more. "
   ]
  },
  {
   "cell_type": "code",
   "execution_count": 119,
   "metadata": {},
   "outputs": [],
   "source": [
    "df_highbudget = df_budgets.loc[df_budgets['production_budget'] >= 150000000]"
   ]
  },
  {
   "cell_type": "raw",
   "metadata": {},
   "source": [
    "We considered a box office success anything with a return on investment of above 250% and a box office failure anything with a return on investment of below 150%. Anything in the middle is labeled as neutral. Of the 136 films reviewed, there were 59 sucesses and 50 failures."
   ]
  },
  {
   "cell_type": "code",
   "execution_count": 120,
   "metadata": {},
   "outputs": [
    {
     "name": "stderr",
     "output_type": "stream",
     "text": [
      "<ipython-input-120-12655acf0e7b>:1: SettingWithCopyWarning: \n",
      "A value is trying to be set on a copy of a slice from a DataFrame.\n",
      "Try using .loc[row_indexer,col_indexer] = value instead\n",
      "\n",
      "See the caveats in the documentation: https://pandas.pydata.org/pandas-docs/stable/user_guide/indexing.html#returning-a-view-versus-a-copy\n",
      "  df_highbudget['Box Office Success'] = np.where(df_highbudget['ROI %'] > 250, True, False)\n",
      "<ipython-input-120-12655acf0e7b>:2: SettingWithCopyWarning: \n",
      "A value is trying to be set on a copy of a slice from a DataFrame.\n",
      "Try using .loc[row_indexer,col_indexer] = value instead\n",
      "\n",
      "See the caveats in the documentation: https://pandas.pydata.org/pandas-docs/stable/user_guide/indexing.html#returning-a-view-versus-a-copy\n",
      "  df_highbudget['Box Office Failure'] = np.where(df_highbudget['ROI %'] < 150, True, False)\n"
     ]
    }
   ],
   "source": [
    "df_highbudget['Box Office Success'] = np.where(df_highbudget['ROI %'] > 250, True, False)\n",
    "df_highbudget['Box Office Failure'] = np.where(df_highbudget['ROI %'] < 150, True, False)\n"
   ]
  },
  {
   "cell_type": "code",
   "execution_count": 121,
   "metadata": {},
   "outputs": [
    {
     "data": {
      "text/plain": [
       "False    77\n",
       "True     59\n",
       "Name: Box Office Success, dtype: int64"
      ]
     },
     "execution_count": 121,
     "metadata": {},
     "output_type": "execute_result"
    }
   ],
   "source": [
    "df_highbudget['Box Office Success'].value_counts()"
   ]
  },
  {
   "cell_type": "code",
   "execution_count": 122,
   "metadata": {},
   "outputs": [
    {
     "data": {
      "text/plain": [
       "False    86\n",
       "True     50\n",
       "Name: Box Office Failure, dtype: int64"
      ]
     },
     "execution_count": 122,
     "metadata": {},
     "output_type": "execute_result"
    }
   ],
   "source": [
    "df_highbudget['Box Office Failure'].value_counts()"
   ]
  },
  {
   "cell_type": "code",
   "execution_count": 123,
   "metadata": {},
   "outputs": [
    {
     "data": {
      "image/png": "[encoded data removed]",
      "text/plain": [
       "<Figure size 504x504 with 1 Axes>"
      ]
     },
     "metadata": {},
     "output_type": "display_data"
    }
   ],
   "source": [
    "labels = 'Box Office Bomb', 'Box Office Success', 'Neutral'\n",
    "amts = [50, 59, 27]\n",
    "\n",
    "fig, ax = plt.subplots(figsize=(7,7))\n",
    "ax.pie(amts, labels = labels, autopct='%1.1f%%', labeldistance=1.06,)\n",
    "ax.axis('equal')\n",
    "\n",
    "plt.title('High Budget Films Success Rate');"
   ]
  },
  {
   "cell_type": "code",
   "execution_count": 124,
   "metadata": {},
   "outputs": [
    {
     "data": {
      "image/png": "[encoded data removed]",
      "text/plain": [
       "<Figure size 576x576 with 1 Axes>"
      ]
     },
     "metadata": {
      "needs_background": "light"
     },
     "output_type": "display_data"
    }
   ],
   "source": [
    "fig, ax = plt.subplots(figsize = (8, 8))\n",
    "\n",
    "plt.scatter(df_highbudget['production_budget'], df_highbudget['ROI %'] )\n",
    "plt.xlabel('Budget (in 100s of millions)',)\n",
    "plt.ylabel('ROI %')\n",
    "plt.axhline(y=0, color='r', linestyle='-')\n",
    "plt.axhline(y=250, color='g', linestyle='-');"
   ]
  },
  {
   "cell_type": "raw",
   "metadata": {},
   "source": [
    "Examining the high budget films that were successful, we noticed that a majority of these films were not stand alone movies. Most of the high budget films with high return value were sequels, prequels or apart of an overarching 'superhero universe'.  From this we concluded that without an already popular franchise to fall back on, high budget films were a large risk to produce"
   ]
  },
  {
   "cell_type": "code",
   "execution_count": 125,
   "metadata": {
    "scrolled": true
   },
   "outputs": [
    {
     "data": {
      "text/html": [
       "<div>\n",
       "<style scoped>\n",
       "    .dataframe tbody tr th:only-of-type {\n",
       "        vertical-align: middle;\n",
       "    }\n",
       "\n",
       "    .dataframe tbody tr th {\n",
       "        vertical-align: top;\n",
       "    }\n",
       "\n",
       "    .dataframe thead th {\n",
       "        text-align: right;\n",
       "    }\n",
       "</style>\n",
       "<table border=\"1\" class=\"dataframe\">\n",
       "  <thead>\n",
       "    <tr style=\"text-align: right;\">\n",
       "      <th></th>\n",
       "      <th>id</th>\n",
       "      <th>release_date</th>\n",
       "      <th>movie</th>\n",
       "      <th>production_budget</th>\n",
       "      <th>domestic_gross</th>\n",
       "      <th>worldwide_gross</th>\n",
       "      <th>total_profit</th>\n",
       "      <th>year</th>\n",
       "      <th>ROI %</th>\n",
       "      <th>Box Office Success</th>\n",
       "      <th>Box Office Failure</th>\n",
       "    </tr>\n",
       "  </thead>\n",
       "  <tbody>\n",
       "    <tr>\n",
       "      <th>3</th>\n",
       "      <td>4</td>\n",
       "      <td>May 1, 2015</td>\n",
       "      <td>Avengers: Age of Ultron</td>\n",
       "      <td>330600000</td>\n",
       "      <td>459005868</td>\n",
       "      <td>1403013963</td>\n",
       "      <td>1072413963</td>\n",
       "      <td>2015</td>\n",
       "      <td>324.384139</td>\n",
       "      <td>True</td>\n",
       "      <td>False</td>\n",
       "    </tr>\n",
       "    <tr>\n",
       "      <th>4</th>\n",
       "      <td>5</td>\n",
       "      <td>Dec 15, 2017</td>\n",
       "      <td>Star Wars Ep. VIII: The Last Jedi</td>\n",
       "      <td>317000000</td>\n",
       "      <td>620181382</td>\n",
       "      <td>1316721747</td>\n",
       "      <td>999721747</td>\n",
       "      <td>2017</td>\n",
       "      <td>315.369636</td>\n",
       "      <td>True</td>\n",
       "      <td>False</td>\n",
       "    </tr>\n",
       "    <tr>\n",
       "      <th>5</th>\n",
       "      <td>6</td>\n",
       "      <td>Dec 18, 2015</td>\n",
       "      <td>Star Wars Ep. VII: The Force Awakens</td>\n",
       "      <td>306000000</td>\n",
       "      <td>936662225</td>\n",
       "      <td>2053311220</td>\n",
       "      <td>1747311220</td>\n",
       "      <td>2015</td>\n",
       "      <td>571.016739</td>\n",
       "      <td>True</td>\n",
       "      <td>False</td>\n",
       "    </tr>\n",
       "    <tr>\n",
       "      <th>6</th>\n",
       "      <td>7</td>\n",
       "      <td>Apr 27, 2018</td>\n",
       "      <td>Avengers: Infinity War</td>\n",
       "      <td>300000000</td>\n",
       "      <td>678815482</td>\n",
       "      <td>2048134200</td>\n",
       "      <td>1748134200</td>\n",
       "      <td>2018</td>\n",
       "      <td>582.711400</td>\n",
       "      <td>True</td>\n",
       "      <td>False</td>\n",
       "    </tr>\n",
       "    <tr>\n",
       "      <th>10</th>\n",
       "      <td>11</td>\n",
       "      <td>Jul 20, 2012</td>\n",
       "      <td>The Dark Knight Rises</td>\n",
       "      <td>275000000</td>\n",
       "      <td>448139099</td>\n",
       "      <td>1084439099</td>\n",
       "      <td>809439099</td>\n",
       "      <td>2012</td>\n",
       "      <td>294.341491</td>\n",
       "      <td>True</td>\n",
       "      <td>False</td>\n",
       "    </tr>\n",
       "    <tr>\n",
       "      <th>16</th>\n",
       "      <td>17</td>\n",
       "      <td>May 6, 2016</td>\n",
       "      <td>Captain America: Civil War</td>\n",
       "      <td>250000000</td>\n",
       "      <td>408084349</td>\n",
       "      <td>1140069413</td>\n",
       "      <td>890069413</td>\n",
       "      <td>2016</td>\n",
       "      <td>356.027765</td>\n",
       "      <td>True</td>\n",
       "      <td>False</td>\n",
       "    </tr>\n",
       "    <tr>\n",
       "      <th>18</th>\n",
       "      <td>19</td>\n",
       "      <td>Dec 14, 2012</td>\n",
       "      <td>The Hobbit: An Unexpected Journey</td>\n",
       "      <td>250000000</td>\n",
       "      <td>303003568</td>\n",
       "      <td>1017003568</td>\n",
       "      <td>767003568</td>\n",
       "      <td>2012</td>\n",
       "      <td>306.801427</td>\n",
       "      <td>True</td>\n",
       "      <td>False</td>\n",
       "    </tr>\n",
       "    <tr>\n",
       "      <th>20</th>\n",
       "      <td>21</td>\n",
       "      <td>Dec 13, 2013</td>\n",
       "      <td>The Hobbit: The Desolation of Smaug</td>\n",
       "      <td>250000000</td>\n",
       "      <td>258366855</td>\n",
       "      <td>960366855</td>\n",
       "      <td>710366855</td>\n",
       "      <td>2013</td>\n",
       "      <td>284.146742</td>\n",
       "      <td>True</td>\n",
       "      <td>False</td>\n",
       "    </tr>\n",
       "    <tr>\n",
       "      <th>21</th>\n",
       "      <td>22</td>\n",
       "      <td>Dec 17, 2014</td>\n",
       "      <td>The Hobbit: The Battle of the Five Armies</td>\n",
       "      <td>250000000</td>\n",
       "      <td>255119788</td>\n",
       "      <td>945577621</td>\n",
       "      <td>695577621</td>\n",
       "      <td>2014</td>\n",
       "      <td>278.231048</td>\n",
       "      <td>True</td>\n",
       "      <td>False</td>\n",
       "    </tr>\n",
       "    <tr>\n",
       "      <th>22</th>\n",
       "      <td>23</td>\n",
       "      <td>Apr 14, 2017</td>\n",
       "      <td>The Fate of the Furious</td>\n",
       "      <td>250000000</td>\n",
       "      <td>225764765</td>\n",
       "      <td>1234846267</td>\n",
       "      <td>984846267</td>\n",
       "      <td>2017</td>\n",
       "      <td>393.938507</td>\n",
       "      <td>True</td>\n",
       "      <td>False</td>\n",
       "    </tr>\n",
       "    <tr>\n",
       "      <th>26</th>\n",
       "      <td>27</td>\n",
       "      <td>May 4, 2012</td>\n",
       "      <td>The Avengers</td>\n",
       "      <td>225000000</td>\n",
       "      <td>623279547</td>\n",
       "      <td>1517935897</td>\n",
       "      <td>1292935897</td>\n",
       "      <td>2012</td>\n",
       "      <td>574.638176</td>\n",
       "      <td>True</td>\n",
       "      <td>False</td>\n",
       "    </tr>\n",
       "    <tr>\n",
       "      <th>33</th>\n",
       "      <td>34</td>\n",
       "      <td>Jun 12, 2015</td>\n",
       "      <td>Jurassic World</td>\n",
       "      <td>215000000</td>\n",
       "      <td>652270625</td>\n",
       "      <td>1648854864</td>\n",
       "      <td>1433854864</td>\n",
       "      <td>2015</td>\n",
       "      <td>666.909239</td>\n",
       "      <td>True</td>\n",
       "      <td>False</td>\n",
       "    </tr>\n",
       "    <tr>\n",
       "      <th>36</th>\n",
       "      <td>37</td>\n",
       "      <td>Jun 27, 2014</td>\n",
       "      <td>Transformers: Age of Extinction</td>\n",
       "      <td>210000000</td>\n",
       "      <td>245439076</td>\n",
       "      <td>1104039076</td>\n",
       "      <td>894039076</td>\n",
       "      <td>2014</td>\n",
       "      <td>425.732893</td>\n",
       "      <td>True</td>\n",
       "      <td>False</td>\n",
       "    </tr>\n",
       "    <tr>\n",
       "      <th>41</th>\n",
       "      <td>42</td>\n",
       "      <td>Feb 16, 2018</td>\n",
       "      <td>Black Panther</td>\n",
       "      <td>200000000</td>\n",
       "      <td>700059566</td>\n",
       "      <td>1348258224</td>\n",
       "      <td>1148258224</td>\n",
       "      <td>2018</td>\n",
       "      <td>574.129112</td>\n",
       "      <td>True</td>\n",
       "      <td>False</td>\n",
       "    </tr>\n",
       "    <tr>\n",
       "      <th>43</th>\n",
       "      <td>44</td>\n",
       "      <td>Jun 15, 2018</td>\n",
       "      <td>Incredibles 2</td>\n",
       "      <td>200000000</td>\n",
       "      <td>608581744</td>\n",
       "      <td>1242520711</td>\n",
       "      <td>1042520711</td>\n",
       "      <td>2018</td>\n",
       "      <td>521.260356</td>\n",
       "      <td>True</td>\n",
       "      <td>False</td>\n",
       "    </tr>\n",
       "    <tr>\n",
       "      <th>44</th>\n",
       "      <td>45</td>\n",
       "      <td>Dec 16, 2016</td>\n",
       "      <td>Rogue One: A Star Wars Story</td>\n",
       "      <td>200000000</td>\n",
       "      <td>532177324</td>\n",
       "      <td>1049102856</td>\n",
       "      <td>849102856</td>\n",
       "      <td>2016</td>\n",
       "      <td>424.551428</td>\n",
       "      <td>True</td>\n",
       "      <td>False</td>\n",
       "    </tr>\n",
       "    <tr>\n",
       "      <th>45</th>\n",
       "      <td>46</td>\n",
       "      <td>Jun 17, 2016</td>\n",
       "      <td>Finding Dory</td>\n",
       "      <td>200000000</td>\n",
       "      <td>486295561</td>\n",
       "      <td>1021215193</td>\n",
       "      <td>821215193</td>\n",
       "      <td>2016</td>\n",
       "      <td>410.607596</td>\n",
       "      <td>True</td>\n",
       "      <td>False</td>\n",
       "    </tr>\n",
       "    <tr>\n",
       "      <th>46</th>\n",
       "      <td>47</td>\n",
       "      <td>Jun 18, 2010</td>\n",
       "      <td>Toy Story 3</td>\n",
       "      <td>200000000</td>\n",
       "      <td>415004880</td>\n",
       "      <td>1068879522</td>\n",
       "      <td>868879522</td>\n",
       "      <td>2010</td>\n",
       "      <td>434.439761</td>\n",
       "      <td>True</td>\n",
       "      <td>False</td>\n",
       "    </tr>\n",
       "    <tr>\n",
       "      <th>47</th>\n",
       "      <td>48</td>\n",
       "      <td>May 3, 2013</td>\n",
       "      <td>Iron Man 3</td>\n",
       "      <td>200000000</td>\n",
       "      <td>408992272</td>\n",
       "      <td>1215392272</td>\n",
       "      <td>1015392272</td>\n",
       "      <td>2013</td>\n",
       "      <td>507.696136</td>\n",
       "      <td>True</td>\n",
       "      <td>False</td>\n",
       "    </tr>\n",
       "    <tr>\n",
       "      <th>48</th>\n",
       "      <td>49</td>\n",
       "      <td>May 5, 2017</td>\n",
       "      <td>Guardians of the Galaxy Vol 2</td>\n",
       "      <td>200000000</td>\n",
       "      <td>389813101</td>\n",
       "      <td>862316233</td>\n",
       "      <td>662316233</td>\n",
       "      <td>2017</td>\n",
       "      <td>331.158117</td>\n",
       "      <td>True</td>\n",
       "      <td>False</td>\n",
       "    </tr>\n",
       "    <tr>\n",
       "      <th>50</th>\n",
       "      <td>51</td>\n",
       "      <td>Mar 5, 2010</td>\n",
       "      <td>Alice in Wonderland</td>\n",
       "      <td>200000000</td>\n",
       "      <td>334191110</td>\n",
       "      <td>1025491110</td>\n",
       "      <td>825491110</td>\n",
       "      <td>2010</td>\n",
       "      <td>412.745555</td>\n",
       "      <td>True</td>\n",
       "      <td>False</td>\n",
       "    </tr>\n",
       "    <tr>\n",
       "      <th>51</th>\n",
       "      <td>52</td>\n",
       "      <td>Nov 8, 2012</td>\n",
       "      <td>Skyfall</td>\n",
       "      <td>200000000</td>\n",
       "      <td>304360277</td>\n",
       "      <td>1110526981</td>\n",
       "      <td>910526981</td>\n",
       "      <td>2012</td>\n",
       "      <td>455.263490</td>\n",
       "      <td>True</td>\n",
       "      <td>False</td>\n",
       "    </tr>\n",
       "    <tr>\n",
       "      <th>52</th>\n",
       "      <td>53</td>\n",
       "      <td>Jun 21, 2013</td>\n",
       "      <td>Monsters University</td>\n",
       "      <td>200000000</td>\n",
       "      <td>268488329</td>\n",
       "      <td>743588329</td>\n",
       "      <td>543588329</td>\n",
       "      <td>2013</td>\n",
       "      <td>271.794164</td>\n",
       "      <td>True</td>\n",
       "      <td>False</td>\n",
       "    </tr>\n",
       "    <tr>\n",
       "      <th>54</th>\n",
       "      <td>55</td>\n",
       "      <td>May 23, 2014</td>\n",
       "      <td>X-Men: Days of Future Past</td>\n",
       "      <td>200000000</td>\n",
       "      <td>233921534</td>\n",
       "      <td>747862775</td>\n",
       "      <td>547862775</td>\n",
       "      <td>2014</td>\n",
       "      <td>273.931388</td>\n",
       "      <td>True</td>\n",
       "      <td>False</td>\n",
       "    </tr>\n",
       "    <tr>\n",
       "      <th>55</th>\n",
       "      <td>56</td>\n",
       "      <td>May 2, 2014</td>\n",
       "      <td>The Amazing Spider-Man 2</td>\n",
       "      <td>200000000</td>\n",
       "      <td>202853933</td>\n",
       "      <td>708996336</td>\n",
       "      <td>508996336</td>\n",
       "      <td>2014</td>\n",
       "      <td>254.498168</td>\n",
       "      <td>True</td>\n",
       "      <td>False</td>\n",
       "    </tr>\n",
       "    <tr>\n",
       "      <th>63</th>\n",
       "      <td>64</td>\n",
       "      <td>Jun 29, 2011</td>\n",
       "      <td>Transformers: Dark of the Moon</td>\n",
       "      <td>195000000</td>\n",
       "      <td>352390543</td>\n",
       "      <td>1123790543</td>\n",
       "      <td>928790543</td>\n",
       "      <td>2011</td>\n",
       "      <td>476.302843</td>\n",
       "      <td>True</td>\n",
       "      <td>False</td>\n",
       "    </tr>\n",
       "    <tr>\n",
       "      <th>66</th>\n",
       "      <td>67</td>\n",
       "      <td>Apr 3, 2015</td>\n",
       "      <td>Furious 7</td>\n",
       "      <td>190000000</td>\n",
       "      <td>353007020</td>\n",
       "      <td>1518722794</td>\n",
       "      <td>1328722794</td>\n",
       "      <td>2015</td>\n",
       "      <td>699.327786</td>\n",
       "      <td>True</td>\n",
       "      <td>False</td>\n",
       "    </tr>\n",
       "    <tr>\n",
       "      <th>81</th>\n",
       "      <td>82</td>\n",
       "      <td>Nov 3, 2017</td>\n",
       "      <td>Thor: Ragnarok</td>\n",
       "      <td>180000000</td>\n",
       "      <td>315058289</td>\n",
       "      <td>846980024</td>\n",
       "      <td>666980024</td>\n",
       "      <td>2017</td>\n",
       "      <td>370.544458</td>\n",
       "      <td>True</td>\n",
       "      <td>False</td>\n",
       "    </tr>\n",
       "    <tr>\n",
       "      <th>83</th>\n",
       "      <td>84</td>\n",
       "      <td>May 30, 2014</td>\n",
       "      <td>Maleficent</td>\n",
       "      <td>180000000</td>\n",
       "      <td>241407328</td>\n",
       "      <td>758536735</td>\n",
       "      <td>578536735</td>\n",
       "      <td>2014</td>\n",
       "      <td>321.409297</td>\n",
       "      <td>True</td>\n",
       "      <td>False</td>\n",
       "    </tr>\n",
       "    <tr>\n",
       "      <th>84</th>\n",
       "      <td>85</td>\n",
       "      <td>Nov 18, 2016</td>\n",
       "      <td>Fantastic Beasts and Where to Find Them</td>\n",
       "      <td>180000000</td>\n",
       "      <td>234037575</td>\n",
       "      <td>802402853</td>\n",
       "      <td>622402853</td>\n",
       "      <td>2016</td>\n",
       "      <td>345.779363</td>\n",
       "      <td>True</td>\n",
       "      <td>False</td>\n",
       "    </tr>\n",
       "    <tr>\n",
       "      <th>91</th>\n",
       "      <td>92</td>\n",
       "      <td>Jul 27, 2018</td>\n",
       "      <td>Mission: ImpossibleâFallout</td>\n",
       "      <td>178000000</td>\n",
       "      <td>220159104</td>\n",
       "      <td>787456552</td>\n",
       "      <td>609456552</td>\n",
       "      <td>2018</td>\n",
       "      <td>342.391321</td>\n",
       "      <td>True</td>\n",
       "      <td>False</td>\n",
       "    </tr>\n",
       "    <tr>\n",
       "      <th>95</th>\n",
       "      <td>96</td>\n",
       "      <td>Mar 8, 2019</td>\n",
       "      <td>Captain Marvel</td>\n",
       "      <td>175000000</td>\n",
       "      <td>426525952</td>\n",
       "      <td>1123061550</td>\n",
       "      <td>948061550</td>\n",
       "      <td>2019</td>\n",
       "      <td>541.749457</td>\n",
       "      <td>True</td>\n",
       "      <td>False</td>\n",
       "    </tr>\n",
       "    <tr>\n",
       "      <th>96</th>\n",
       "      <td>97</td>\n",
       "      <td>Apr 15, 2016</td>\n",
       "      <td>The Jungle Book</td>\n",
       "      <td>175000000</td>\n",
       "      <td>364001123</td>\n",
       "      <td>962854547</td>\n",
       "      <td>787854547</td>\n",
       "      <td>2016</td>\n",
       "      <td>450.202598</td>\n",
       "      <td>True</td>\n",
       "      <td>False</td>\n",
       "    </tr>\n",
       "    <tr>\n",
       "      <th>97</th>\n",
       "      <td>98</td>\n",
       "      <td>Jun 19, 2015</td>\n",
       "      <td>Inside Out</td>\n",
       "      <td>175000000</td>\n",
       "      <td>356461711</td>\n",
       "      <td>854235992</td>\n",
       "      <td>679235992</td>\n",
       "      <td>2015</td>\n",
       "      <td>388.134853</td>\n",
       "      <td>True</td>\n",
       "      <td>False</td>\n",
       "    </tr>\n",
       "    <tr>\n",
       "      <th>98</th>\n",
       "      <td>99</td>\n",
       "      <td>Jul 7, 2017</td>\n",
       "      <td>Spider-Man: Homecoming</td>\n",
       "      <td>175000000</td>\n",
       "      <td>334201140</td>\n",
       "      <td>880166350</td>\n",
       "      <td>705166350</td>\n",
       "      <td>2017</td>\n",
       "      <td>402.952200</td>\n",
       "      <td>True</td>\n",
       "      <td>False</td>\n",
       "    </tr>\n",
       "    <tr>\n",
       "      <th>99</th>\n",
       "      <td>100</td>\n",
       "      <td>Aug 5, 2016</td>\n",
       "      <td>Suicide Squad</td>\n",
       "      <td>175000000</td>\n",
       "      <td>325100054</td>\n",
       "      <td>746059887</td>\n",
       "      <td>571059887</td>\n",
       "      <td>2016</td>\n",
       "      <td>326.319935</td>\n",
       "      <td>True</td>\n",
       "      <td>False</td>\n",
       "    </tr>\n",
       "    <tr>\n",
       "      <th>101</th>\n",
       "      <td>2</td>\n",
       "      <td>Nov 22, 2017</td>\n",
       "      <td>Coco</td>\n",
       "      <td>175000000</td>\n",
       "      <td>209726015</td>\n",
       "      <td>798008101</td>\n",
       "      <td>623008101</td>\n",
       "      <td>2017</td>\n",
       "      <td>356.004629</td>\n",
       "      <td>True</td>\n",
       "      <td>False</td>\n",
       "    </tr>\n",
       "    <tr>\n",
       "      <th>112</th>\n",
       "      <td>13</td>\n",
       "      <td>Jun 22, 2018</td>\n",
       "      <td>Jurassic World: Fallen Kingdom</td>\n",
       "      <td>170000000</td>\n",
       "      <td>417719760</td>\n",
       "      <td>1305772799</td>\n",
       "      <td>1135772799</td>\n",
       "      <td>2018</td>\n",
       "      <td>668.101646</td>\n",
       "      <td>True</td>\n",
       "      <td>False</td>\n",
       "    </tr>\n",
       "    <tr>\n",
       "      <th>113</th>\n",
       "      <td>14</td>\n",
       "      <td>Aug 1, 2014</td>\n",
       "      <td>Guardians of the Galaxy</td>\n",
       "      <td>170000000</td>\n",
       "      <td>333172112</td>\n",
       "      <td>770867516</td>\n",
       "      <td>600867516</td>\n",
       "      <td>2014</td>\n",
       "      <td>353.451480</td>\n",
       "      <td>True</td>\n",
       "      <td>False</td>\n",
       "    </tr>\n",
       "    <tr>\n",
       "      <th>114</th>\n",
       "      <td>15</td>\n",
       "      <td>May 7, 2010</td>\n",
       "      <td>Iron Man 2</td>\n",
       "      <td>170000000</td>\n",
       "      <td>312433331</td>\n",
       "      <td>621156389</td>\n",
       "      <td>451156389</td>\n",
       "      <td>2010</td>\n",
       "      <td>265.386111</td>\n",
       "      <td>True</td>\n",
       "      <td>False</td>\n",
       "    </tr>\n",
       "    <tr>\n",
       "      <th>115</th>\n",
       "      <td>16</td>\n",
       "      <td>Apr 4, 2014</td>\n",
       "      <td>Captain America: The Winter Soldier</td>\n",
       "      <td>170000000</td>\n",
       "      <td>259746958</td>\n",
       "      <td>714401889</td>\n",
       "      <td>544401889</td>\n",
       "      <td>2014</td>\n",
       "      <td>320.236405</td>\n",
       "      <td>True</td>\n",
       "      <td>False</td>\n",
       "    </tr>\n",
       "    <tr>\n",
       "      <th>116</th>\n",
       "      <td>17</td>\n",
       "      <td>Jul 11, 2014</td>\n",
       "      <td>Dawn of the Planet of the Apes</td>\n",
       "      <td>170000000</td>\n",
       "      <td>208545589</td>\n",
       "      <td>710644566</td>\n",
       "      <td>540644566</td>\n",
       "      <td>2014</td>\n",
       "      <td>318.026215</td>\n",
       "      <td>True</td>\n",
       "      <td>False</td>\n",
       "    </tr>\n",
       "    <tr>\n",
       "      <th>126</th>\n",
       "      <td>27</td>\n",
       "      <td>May 21, 2010</td>\n",
       "      <td>Shrek Forever After</td>\n",
       "      <td>165000000</td>\n",
       "      <td>238736787</td>\n",
       "      <td>756244673</td>\n",
       "      <td>591244673</td>\n",
       "      <td>2010</td>\n",
       "      <td>358.330105</td>\n",
       "      <td>True</td>\n",
       "      <td>False</td>\n",
       "    </tr>\n",
       "    <tr>\n",
       "      <th>127</th>\n",
       "      <td>28</td>\n",
       "      <td>Nov 4, 2016</td>\n",
       "      <td>Doctor Strange</td>\n",
       "      <td>165000000</td>\n",
       "      <td>232641920</td>\n",
       "      <td>676404566</td>\n",
       "      <td>511404566</td>\n",
       "      <td>2016</td>\n",
       "      <td>309.942161</td>\n",
       "      <td>True</td>\n",
       "      <td>False</td>\n",
       "    </tr>\n",
       "    <tr>\n",
       "      <th>128</th>\n",
       "      <td>29</td>\n",
       "      <td>Nov 7, 2014</td>\n",
       "      <td>Big Hero 6</td>\n",
       "      <td>165000000</td>\n",
       "      <td>222527828</td>\n",
       "      <td>652127828</td>\n",
       "      <td>487127828</td>\n",
       "      <td>2014</td>\n",
       "      <td>295.228987</td>\n",
       "      <td>True</td>\n",
       "      <td>False</td>\n",
       "    </tr>\n",
       "    <tr>\n",
       "      <th>131</th>\n",
       "      <td>32</td>\n",
       "      <td>Nov 5, 2014</td>\n",
       "      <td>Interstellar</td>\n",
       "      <td>165000000</td>\n",
       "      <td>188017894</td>\n",
       "      <td>666379375</td>\n",
       "      <td>501379375</td>\n",
       "      <td>2014</td>\n",
       "      <td>303.866288</td>\n",
       "      <td>True</td>\n",
       "      <td>False</td>\n",
       "    </tr>\n",
       "    <tr>\n",
       "      <th>134</th>\n",
       "      <td>35</td>\n",
       "      <td>Mar 17, 2017</td>\n",
       "      <td>Beauty and the Beast</td>\n",
       "      <td>160000000</td>\n",
       "      <td>504014165</td>\n",
       "      <td>1259199706</td>\n",
       "      <td>1099199706</td>\n",
       "      <td>2017</td>\n",
       "      <td>686.999816</td>\n",
       "      <td>True</td>\n",
       "      <td>False</td>\n",
       "    </tr>\n",
       "    <tr>\n",
       "      <th>135</th>\n",
       "      <td>36</td>\n",
       "      <td>Dec 21, 2018</td>\n",
       "      <td>Aquaman</td>\n",
       "      <td>160000000</td>\n",
       "      <td>335061807</td>\n",
       "      <td>1146894640</td>\n",
       "      <td>986894640</td>\n",
       "      <td>2018</td>\n",
       "      <td>616.809150</td>\n",
       "      <td>True</td>\n",
       "      <td>False</td>\n",
       "    </tr>\n",
       "    <tr>\n",
       "      <th>137</th>\n",
       "      <td>38</td>\n",
       "      <td>Jul 16, 2010</td>\n",
       "      <td>Inception</td>\n",
       "      <td>160000000</td>\n",
       "      <td>292576195</td>\n",
       "      <td>835524642</td>\n",
       "      <td>675524642</td>\n",
       "      <td>2010</td>\n",
       "      <td>422.202901</td>\n",
       "      <td>True</td>\n",
       "      <td>False</td>\n",
       "    </tr>\n",
       "    <tr>\n",
       "      <th>138</th>\n",
       "      <td>39</td>\n",
       "      <td>Nov 20, 2015</td>\n",
       "      <td>The Hunger Games: Mockingjay - Part 2</td>\n",
       "      <td>160000000</td>\n",
       "      <td>281723902</td>\n",
       "      <td>648986787</td>\n",
       "      <td>488986787</td>\n",
       "      <td>2015</td>\n",
       "      <td>305.616742</td>\n",
       "      <td>True</td>\n",
       "      <td>False</td>\n",
       "    </tr>\n",
       "    <tr>\n",
       "      <th>139</th>\n",
       "      <td>40</td>\n",
       "      <td>May 24, 2013</td>\n",
       "      <td>Fast and Furious 6</td>\n",
       "      <td>160000000</td>\n",
       "      <td>238679850</td>\n",
       "      <td>789300444</td>\n",
       "      <td>629300444</td>\n",
       "      <td>2013</td>\n",
       "      <td>393.312777</td>\n",
       "      <td>True</td>\n",
       "      <td>False</td>\n",
       "    </tr>\n",
       "    <tr>\n",
       "      <th>154</th>\n",
       "      <td>55</td>\n",
       "      <td>Jun 2, 2017</td>\n",
       "      <td>Wonder Woman</td>\n",
       "      <td>150000000</td>\n",
       "      <td>412563408</td>\n",
       "      <td>821133378</td>\n",
       "      <td>671133378</td>\n",
       "      <td>2017</td>\n",
       "      <td>447.422252</td>\n",
       "      <td>True</td>\n",
       "      <td>False</td>\n",
       "    </tr>\n",
       "    <tr>\n",
       "      <th>155</th>\n",
       "      <td>56</td>\n",
       "      <td>Nov 22, 2013</td>\n",
       "      <td>Frozen</td>\n",
       "      <td>150000000</td>\n",
       "      <td>400738009</td>\n",
       "      <td>1272469910</td>\n",
       "      <td>1122469910</td>\n",
       "      <td>2013</td>\n",
       "      <td>748.313273</td>\n",
       "      <td>True</td>\n",
       "      <td>False</td>\n",
       "    </tr>\n",
       "    <tr>\n",
       "      <th>156</th>\n",
       "      <td>57</td>\n",
       "      <td>Mar 4, 2016</td>\n",
       "      <td>Zootopia</td>\n",
       "      <td>150000000</td>\n",
       "      <td>341268248</td>\n",
       "      <td>1019429616</td>\n",
       "      <td>869429616</td>\n",
       "      <td>2016</td>\n",
       "      <td>579.619744</td>\n",
       "      <td>True</td>\n",
       "      <td>False</td>\n",
       "    </tr>\n",
       "    <tr>\n",
       "      <th>161</th>\n",
       "      <td>62</td>\n",
       "      <td>Nov 23, 2016</td>\n",
       "      <td>Moana</td>\n",
       "      <td>150000000</td>\n",
       "      <td>248757044</td>\n",
       "      <td>637517365</td>\n",
       "      <td>487517365</td>\n",
       "      <td>2016</td>\n",
       "      <td>325.011577</td>\n",
       "      <td>True</td>\n",
       "      <td>False</td>\n",
       "    </tr>\n",
       "    <tr>\n",
       "      <th>165</th>\n",
       "      <td>66</td>\n",
       "      <td>Nov 8, 2013</td>\n",
       "      <td>Thor: The Dark World</td>\n",
       "      <td>150000000</td>\n",
       "      <td>206362140</td>\n",
       "      <td>644602516</td>\n",
       "      <td>494602516</td>\n",
       "      <td>2013</td>\n",
       "      <td>329.735011</td>\n",
       "      <td>True</td>\n",
       "      <td>False</td>\n",
       "    </tr>\n",
       "    <tr>\n",
       "      <th>167</th>\n",
       "      <td>68</td>\n",
       "      <td>Jul 31, 2015</td>\n",
       "      <td>Mission: ImpossibleâRogue Nation</td>\n",
       "      <td>150000000</td>\n",
       "      <td>195042377</td>\n",
       "      <td>688858992</td>\n",
       "      <td>538858992</td>\n",
       "      <td>2015</td>\n",
       "      <td>359.239328</td>\n",
       "      <td>True</td>\n",
       "      <td>False</td>\n",
       "    </tr>\n",
       "    <tr>\n",
       "      <th>173</th>\n",
       "      <td>74</td>\n",
       "      <td>May 26, 2011</td>\n",
       "      <td>Kung Fu Panda 2</td>\n",
       "      <td>150000000</td>\n",
       "      <td>165249063</td>\n",
       "      <td>664837547</td>\n",
       "      <td>514837547</td>\n",
       "      <td>2011</td>\n",
       "      <td>343.225031</td>\n",
       "      <td>True</td>\n",
       "      <td>False</td>\n",
       "    </tr>\n",
       "    <tr>\n",
       "      <th>177</th>\n",
       "      <td>78</td>\n",
       "      <td>Mar 29, 2018</td>\n",
       "      <td>Ready Player One</td>\n",
       "      <td>150000000</td>\n",
       "      <td>137690172</td>\n",
       "      <td>579290136</td>\n",
       "      <td>429290136</td>\n",
       "      <td>2018</td>\n",
       "      <td>286.193424</td>\n",
       "      <td>True</td>\n",
       "      <td>False</td>\n",
       "    </tr>\n",
       "  </tbody>\n",
       "</table>\n",
       "</div>"
      ],
      "text/plain": [
       "      id  release_date                                      movie  \\\n",
       "3      4   May 1, 2015                    Avengers: Age of Ultron   \n",
       "4      5  Dec 15, 2017          Star Wars Ep. VIII: The Last Jedi   \n",
       "5      6  Dec 18, 2015       Star Wars Ep. VII: The Force Awakens   \n",
       "6      7  Apr 27, 2018                     Avengers: Infinity War   \n",
       "10    11  Jul 20, 2012                      The Dark Knight Rises   \n",
       "16    17   May 6, 2016                 Captain America: Civil War   \n",
       "18    19  Dec 14, 2012          The Hobbit: An Unexpected Journey   \n",
       "20    21  Dec 13, 2013        The Hobbit: The Desolation of Smaug   \n",
       "21    22  Dec 17, 2014  The Hobbit: The Battle of the Five Armies   \n",
       "22    23  Apr 14, 2017                    The Fate of the Furious   \n",
       "26    27   May 4, 2012                               The Avengers   \n",
       "33    34  Jun 12, 2015                             Jurassic World   \n",
       "36    37  Jun 27, 2014            Transformers: Age of Extinction   \n",
       "41    42  Feb 16, 2018                              Black Panther   \n",
       "43    44  Jun 15, 2018                              Incredibles 2   \n",
       "44    45  Dec 16, 2016               Rogue One: A Star Wars Story   \n",
       "45    46  Jun 17, 2016                               Finding Dory   \n",
       "46    47  Jun 18, 2010                                Toy Story 3   \n",
       "47    48   May 3, 2013                                 Iron Man 3   \n",
       "48    49   May 5, 2017              Guardians of the Galaxy Vol 2   \n",
       "50    51   Mar 5, 2010                        Alice in Wonderland   \n",
       "51    52   Nov 8, 2012                                    Skyfall   \n",
       "52    53  Jun 21, 2013                        Monsters University   \n",
       "54    55  May 23, 2014                 X-Men: Days of Future Past   \n",
       "55    56   May 2, 2014                   The Amazing Spider-Man 2   \n",
       "63    64  Jun 29, 2011             Transformers: Dark of the Moon   \n",
       "66    67   Apr 3, 2015                                  Furious 7   \n",
       "81    82   Nov 3, 2017                             Thor: Ragnarok   \n",
       "83    84  May 30, 2014                                 Maleficent   \n",
       "84    85  Nov 18, 2016    Fantastic Beasts and Where to Find Them   \n",
       "91    92  Jul 27, 2018              Mission: ImpossibleâFallout   \n",
       "95    96   Mar 8, 2019                             Captain Marvel   \n",
       "96    97  Apr 15, 2016                            The Jungle Book   \n",
       "97    98  Jun 19, 2015                                 Inside Out   \n",
       "98    99   Jul 7, 2017                     Spider-Man: Homecoming   \n",
       "99   100   Aug 5, 2016                              Suicide Squad   \n",
       "101    2  Nov 22, 2017                                       Coco   \n",
       "112   13  Jun 22, 2018             Jurassic World: Fallen Kingdom   \n",
       "113   14   Aug 1, 2014                    Guardians of the Galaxy   \n",
       "114   15   May 7, 2010                                 Iron Man 2   \n",
       "115   16   Apr 4, 2014        Captain America: The Winter Soldier   \n",
       "116   17  Jul 11, 2014             Dawn of the Planet of the Apes   \n",
       "126   27  May 21, 2010                        Shrek Forever After   \n",
       "127   28   Nov 4, 2016                             Doctor Strange   \n",
       "128   29   Nov 7, 2014                                 Big Hero 6   \n",
       "131   32   Nov 5, 2014                               Interstellar   \n",
       "134   35  Mar 17, 2017                       Beauty and the Beast   \n",
       "135   36  Dec 21, 2018                                    Aquaman   \n",
       "137   38  Jul 16, 2010                                  Inception   \n",
       "138   39  Nov 20, 2015      The Hunger Games: Mockingjay - Part 2   \n",
       "139   40  May 24, 2013                         Fast and Furious 6   \n",
       "154   55   Jun 2, 2017                               Wonder Woman   \n",
       "155   56  Nov 22, 2013                                     Frozen   \n",
       "156   57   Mar 4, 2016                                   Zootopia   \n",
       "161   62  Nov 23, 2016                                      Moana   \n",
       "165   66   Nov 8, 2013                       Thor: The Dark World   \n",
       "167   68  Jul 31, 2015         Mission: ImpossibleâRogue Nation   \n",
       "173   74  May 26, 2011                            Kung Fu Panda 2   \n",
       "177   78  Mar 29, 2018                           Ready Player One   \n",
       "\n",
       "     production_budget  domestic_gross  worldwide_gross  total_profit  year  \\\n",
       "3            330600000       459005868       1403013963    1072413963  2015   \n",
       "4            317000000       620181382       1316721747     999721747  2017   \n",
       "5            306000000       936662225       2053311220    1747311220  2015   \n",
       "6            300000000       678815482       2048134200    1748134200  2018   \n",
       "10           275000000       448139099       1084439099     809439099  2012   \n",
       "16           250000000       408084349       1140069413     890069413  2016   \n",
       "18           250000000       303003568       1017003568     767003568  2012   \n",
       "20           250000000       258366855        960366855     710366855  2013   \n",
       "21           250000000       255119788        945577621     695577621  2014   \n",
       "22           250000000       225764765       1234846267     984846267  2017   \n",
       "26           225000000       623279547       1517935897    1292935897  2012   \n",
       "33           215000000       652270625       1648854864    1433854864  2015   \n",
       "36           210000000       245439076       1104039076     894039076  2014   \n",
       "41           200000000       700059566       1348258224    1148258224  2018   \n",
       "43           200000000       608581744       1242520711    1042520711  2018   \n",
       "44           200000000       532177324       1049102856     849102856  2016   \n",
       "45           200000000       486295561       1021215193     821215193  2016   \n",
       "46           200000000       415004880       1068879522     868879522  2010   \n",
       "47           200000000       408992272       1215392272    1015392272  2013   \n",
       "48           200000000       389813101        862316233     662316233  2017   \n",
       "50           200000000       334191110       1025491110     825491110  2010   \n",
       "51           200000000       304360277       1110526981     910526981  2012   \n",
       "52           200000000       268488329        743588329     543588329  2013   \n",
       "54           200000000       233921534        747862775     547862775  2014   \n",
       "55           200000000       202853933        708996336     508996336  2014   \n",
       "63           195000000       352390543       1123790543     928790543  2011   \n",
       "66           190000000       353007020       1518722794    1328722794  2015   \n",
       "81           180000000       315058289        846980024     666980024  2017   \n",
       "83           180000000       241407328        758536735     578536735  2014   \n",
       "84           180000000       234037575        802402853     622402853  2016   \n",
       "91           178000000       220159104        787456552     609456552  2018   \n",
       "95           175000000       426525952       1123061550     948061550  2019   \n",
       "96           175000000       364001123        962854547     787854547  2016   \n",
       "97           175000000       356461711        854235992     679235992  2015   \n",
       "98           175000000       334201140        880166350     705166350  2017   \n",
       "99           175000000       325100054        746059887     571059887  2016   \n",
       "101          175000000       209726015        798008101     623008101  2017   \n",
       "112          170000000       417719760       1305772799    1135772799  2018   \n",
       "113          170000000       333172112        770867516     600867516  2014   \n",
       "114          170000000       312433331        621156389     451156389  2010   \n",
       "115          170000000       259746958        714401889     544401889  2014   \n",
       "116          170000000       208545589        710644566     540644566  2014   \n",
       "126          165000000       238736787        756244673     591244673  2010   \n",
       "127          165000000       232641920        676404566     511404566  2016   \n",
       "128          165000000       222527828        652127828     487127828  2014   \n",
       "131          165000000       188017894        666379375     501379375  2014   \n",
       "134          160000000       504014165       1259199706    1099199706  2017   \n",
       "135          160000000       335061807       1146894640     986894640  2018   \n",
       "137          160000000       292576195        835524642     675524642  2010   \n",
       "138          160000000       281723902        648986787     488986787  2015   \n",
       "139          160000000       238679850        789300444     629300444  2013   \n",
       "154          150000000       412563408        821133378     671133378  2017   \n",
       "155          150000000       400738009       1272469910    1122469910  2013   \n",
       "156          150000000       341268248       1019429616     869429616  2016   \n",
       "161          150000000       248757044        637517365     487517365  2016   \n",
       "165          150000000       206362140        644602516     494602516  2013   \n",
       "167          150000000       195042377        688858992     538858992  2015   \n",
       "173          150000000       165249063        664837547     514837547  2011   \n",
       "177          150000000       137690172        579290136     429290136  2018   \n",
       "\n",
       "          ROI %  Box Office Success  Box Office Failure  \n",
       "3    324.384139                True               False  \n",
       "4    315.369636                True               False  \n",
       "5    571.016739                True               False  \n",
       "6    582.711400                True               False  \n",
       "10   294.341491                True               False  \n",
       "16   356.027765                True               False  \n",
       "18   306.801427                True               False  \n",
       "20   284.146742                True               False  \n",
       "21   278.231048                True               False  \n",
       "22   393.938507                True               False  \n",
       "26   574.638176                True               False  \n",
       "33   666.909239                True               False  \n",
       "36   425.732893                True               False  \n",
       "41   574.129112                True               False  \n",
       "43   521.260356                True               False  \n",
       "44   424.551428                True               False  \n",
       "45   410.607596                True               False  \n",
       "46   434.439761                True               False  \n",
       "47   507.696136                True               False  \n",
       "48   331.158117                True               False  \n",
       "50   412.745555                True               False  \n",
       "51   455.263490                True               False  \n",
       "52   271.794164                True               False  \n",
       "54   273.931388                True               False  \n",
       "55   254.498168                True               False  \n",
       "63   476.302843                True               False  \n",
       "66   699.327786                True               False  \n",
       "81   370.544458                True               False  \n",
       "83   321.409297                True               False  \n",
       "84   345.779363                True               False  \n",
       "91   342.391321                True               False  \n",
       "95   541.749457                True               False  \n",
       "96   450.202598                True               False  \n",
       "97   388.134853                True               False  \n",
       "98   402.952200                True               False  \n",
       "99   326.319935                True               False  \n",
       "101  356.004629                True               False  \n",
       "112  668.101646                True               False  \n",
       "113  353.451480                True               False  \n",
       "114  265.386111                True               False  \n",
       "115  320.236405                True               False  \n",
       "116  318.026215                True               False  \n",
       "126  358.330105                True               False  \n",
       "127  309.942161                True               False  \n",
       "128  295.228987                True               False  \n",
       "131  303.866288                True               False  \n",
       "134  686.999816                True               False  \n",
       "135  616.809150                True               False  \n",
       "137  422.202901                True               False  \n",
       "138  305.616742                True               False  \n",
       "139  393.312777                True               False  \n",
       "154  447.422252                True               False  \n",
       "155  748.313273                True               False  \n",
       "156  579.619744                True               False  \n",
       "161  325.011577                True               False  \n",
       "165  329.735011                True               False  \n",
       "167  359.239328                True               False  \n",
       "173  343.225031                True               False  \n",
       "177  286.193424                True               False  "
      ]
     },
     "execution_count": 125,
     "metadata": {},
     "output_type": "execute_result"
    }
   ],
   "source": [
    "df_highbudget.loc[df_highbudget['Box Office Success'] == True]"
   ]
  },
  {
   "cell_type": "code",
   "execution_count": 6,
   "metadata": {},
   "outputs": [
    {
     "ename": "NameError",
     "evalue": "name 'df_highbudget' is not defined",
     "output_type": "error",
     "traceback": [
      "\u001b[0;31m---------------------------------------------------------------------------\u001b[0m",
      "\u001b[0;31mNameError\u001b[0m                                 Traceback (most recent call last)",
      "\u001b[0;32m<ipython-input-6-a08b804e843a>\u001b[0m in \u001b[0;36m<module>\u001b[0;34m\u001b[0m\n\u001b[0;32m----> 1\u001b[0;31m \u001b[0mdf_hb_bos\u001b[0m \u001b[0;34m=\u001b[0m \u001b[0mdf_highbudget\u001b[0m\u001b[0;34m.\u001b[0m\u001b[0mloc\u001b[0m\u001b[0;34m[\u001b[0m\u001b[0mdf_highbudget\u001b[0m\u001b[0;34m[\u001b[0m\u001b[0;34m'Box Office Success'\u001b[0m\u001b[0;34m]\u001b[0m \u001b[0;34m==\u001b[0m \u001b[0;32mTrue\u001b[0m\u001b[0;34m]\u001b[0m\u001b[0;34m\u001b[0m\u001b[0;34m\u001b[0m\u001b[0m\n\u001b[0m",
      "\u001b[0;31mNameError\u001b[0m: name 'df_highbudget' is not defined"
     ]
    }
   ],
   "source": [
    "df_hb_bos = df_highbudget.loc[df_highbudget['Box Office Success'] == True]"
   ]
  },
  {
   "cell_type": "code",
   "execution_count": null,
   "metadata": {},
   "outputs": [],
   "source": [
    "type_list = ['Franchise', 'Franchise', 'Franchise', 'Franchise', 'Franchise', 'Franchise', 'Franchise', 'Franchise', 'Franchise', 'Franchise', 'Franchise', 'Franchise', 'Franchise', 'Franchise', 'Franchise', 'Franchise', 'Franchise', 'Franchise', 'Franchise', 'Franchise', 'Original', 'Franchise', 'Franchise', 'Franchise', 'Franchise', 'Franchise', 'Franchise', 'Franchise', 'Original', 'Franchise', 'Franchise', 'Franchise', 'Original', 'Original', 'Franchise', 'Franchise', 'Original', 'Franchise', 'Franchise', 'Franchise', 'Franchise', 'Franchise', 'Franchise', 'Franchise', 'Original', 'Original', 'Original', 'Franchise', 'Original', 'Franchise', 'Franchise', 'Franchise', 'Original', 'Original', 'Original', 'Franchise', 'Franchise', 'Franchise', 'Original']\n",
    "subtype = ['Marvel', 'Star Wars', 'Star Wars', 'Marvel', 'DC', 'Marvel', 'LOTR', 'LOTR', 'LOTR', 'Fast and Furious', 'Marvel', 'Jurassic Park', 'Transformers', 'Marvel', 'Incredibles', 'Star Wars', 'Finding Nemo', 'Toy Story', 'Marvel', 'Marvel', 'Live Action Remake', 'James Bond', 'Monsters Inc.', 'Marvel', 'Marvel', 'Transformers', 'Fast and Furious', 'Marvel', 'Live Action Remake', 'Harry Potter', 'Mission Impossible', 'Marvel', 'Live Action Remake', 'Animated', 'Marvel', 'DC', 'Animated', 'Jurassic Park', 'Marvel', 'Marvel', 'Marvel', 'Planet of the Apes', 'Shrek', 'Marvel', 'Animated', 'Original', 'Live Action Remake', 'DC', 'Original', 'Hunger Games', 'Fast and Furious', 'DC', 'Animated', 'Animated', 'Animated', 'Marvel', 'Mission Impossible', 'Kung Fu Panda', 'Original']\n",
    "df_hb_bos['Type'] = type_list\n",
    "df_hb_bos['Subtype'] = subtype"
   ]
  },
  {
   "cell_type": "code",
   "execution_count": 5,
   "metadata": {},
   "outputs": [
    {
     "ename": "NameError",
     "evalue": "name 'sns' is not defined",
     "output_type": "error",
     "traceback": [
      "\u001b[0;31m---------------------------------------------------------------------------\u001b[0m",
      "\u001b[0;31mNameError\u001b[0m                                 Traceback (most recent call last)",
      "\u001b[0;32m<ipython-input-5-4c279361ee37>\u001b[0m in \u001b[0;36m<module>\u001b[0;34m\u001b[0m\n\u001b[0;32m----> 1\u001b[0;31m \u001b[0msns\u001b[0m\u001b[0;34m.\u001b[0m\u001b[0mset_style\u001b[0m\u001b[0;34m(\u001b[0m\u001b[0;34m'white'\u001b[0m\u001b[0;34m)\u001b[0m\u001b[0;34m\u001b[0m\u001b[0;34m\u001b[0m\u001b[0m\n\u001b[0m\u001b[1;32m      2\u001b[0m \u001b[0mdf_hb_bos\u001b[0m\u001b[0;34m[\u001b[0m\u001b[0;34m'Type'\u001b[0m\u001b[0;34m]\u001b[0m\u001b[0;34m.\u001b[0m\u001b[0mvalue_counts\u001b[0m\u001b[0;34m(\u001b[0m\u001b[0;34m)\u001b[0m\u001b[0;34m.\u001b[0m\u001b[0mplot\u001b[0m\u001b[0;34m(\u001b[0m\u001b[0mkind\u001b[0m \u001b[0;34m=\u001b[0m \u001b[0;34m'bar'\u001b[0m\u001b[0;34m,\u001b[0m \u001b[0mfigsize\u001b[0m \u001b[0;34m=\u001b[0m \u001b[0;34m(\u001b[0m\u001b[0;36m10\u001b[0m\u001b[0;34m,\u001b[0m \u001b[0;36m8.5\u001b[0m\u001b[0;34m)\u001b[0m\u001b[0;34m,\u001b[0m \u001b[0mrot\u001b[0m \u001b[0;34m=\u001b[0m \u001b[0;36m0\u001b[0m\u001b[0;34m,\u001b[0m \u001b[0mcolor\u001b[0m \u001b[0;34m=\u001b[0m \u001b[0;34m'blue'\u001b[0m\u001b[0;34m)\u001b[0m\u001b[0;34m\u001b[0m\u001b[0;34m\u001b[0m\u001b[0m\n\u001b[1;32m      3\u001b[0m \u001b[0mplt\u001b[0m\u001b[0;34m.\u001b[0m\u001b[0mylabel\u001b[0m\u001b[0;34m(\u001b[0m\u001b[0;34m'Film Count'\u001b[0m\u001b[0;34m,\u001b[0m \u001b[0mlabelpad\u001b[0m \u001b[0;34m=\u001b[0m \u001b[0;36m14\u001b[0m\u001b[0;34m)\u001b[0m\u001b[0;34m\u001b[0m\u001b[0;34m\u001b[0m\u001b[0m\n\u001b[1;32m      4\u001b[0m \u001b[0mplt\u001b[0m\u001b[0;34m.\u001b[0m\u001b[0mtitle\u001b[0m\u001b[0;34m(\u001b[0m\u001b[0;34m'High Budget, High ROI Films by Type'\u001b[0m\u001b[0;34m,\u001b[0m \u001b[0my\u001b[0m \u001b[0;34m=\u001b[0m \u001b[0;36m1.02\u001b[0m\u001b[0;34m)\u001b[0m\u001b[0;34m\u001b[0m\u001b[0;34m\u001b[0m\u001b[0m\n",
      "\u001b[0;31mNameError\u001b[0m: name 'sns' is not defined"
     ]
    }
   ],
   "source": [
    "sns.set_style('white')\n",
    "df_hb_bos['Type'].value_counts().plot(kind = 'bar', figsize = (10, 8.5), rot = 0, color = 'blue')\n",
    "plt.ylabel('Film Count', labelpad = 14)\n",
    "plt.title('High Budget, High ROI Films by Type', y = 1.02)\n"
   ]
  },
  {
   "cell_type": "markdown",
   "metadata": {},
   "source": [
    "# ROI and Genre"
   ]
  },
  {
   "cell_type": "raw",
   "metadata": {},
   "source": [
    "To further examine which movies were producing the highest ROI's, we subsetted the budgets dataframe to only include the films with an ROI of over 1000."
   ]
  },
  {
   "cell_type": "code",
   "execution_count": 127,
   "metadata": {},
   "outputs": [],
   "source": [
    "highest_rois = df_budgets.loc[df_budgets['ROI %'] > 1000]"
   ]
  },
  {
   "cell_type": "code",
   "execution_count": 128,
   "metadata": {},
   "outputs": [
    {
     "data": {
      "text/html": [
       "<div>\n",
       "<style scoped>\n",
       "    .dataframe tbody tr th:only-of-type {\n",
       "        vertical-align: middle;\n",
       "    }\n",
       "\n",
       "    .dataframe tbody tr th {\n",
       "        vertical-align: top;\n",
       "    }\n",
       "\n",
       "    .dataframe thead th {\n",
       "        text-align: right;\n",
       "    }\n",
       "</style>\n",
       "<table border=\"1\" class=\"dataframe\">\n",
       "  <thead>\n",
       "    <tr style=\"text-align: right;\">\n",
       "      <th></th>\n",
       "      <th>id</th>\n",
       "      <th>release_date</th>\n",
       "      <th>movie</th>\n",
       "      <th>production_budget</th>\n",
       "      <th>domestic_gross</th>\n",
       "      <th>worldwide_gross</th>\n",
       "      <th>total_profit</th>\n",
       "      <th>year</th>\n",
       "      <th>ROI %</th>\n",
       "    </tr>\n",
       "  </thead>\n",
       "  <tbody>\n",
       "    <tr>\n",
       "      <th>621</th>\n",
       "      <td>22</td>\n",
       "      <td>Jul 3, 2013</td>\n",
       "      <td>Despicable Me 2</td>\n",
       "      <td>76000000</td>\n",
       "      <td>368065385</td>\n",
       "      <td>975216835</td>\n",
       "      <td>899216835</td>\n",
       "      <td>2013</td>\n",
       "      <td>1183.180046</td>\n",
       "    </tr>\n",
       "    <tr>\n",
       "      <th>625</th>\n",
       "      <td>26</td>\n",
       "      <td>Jul 8, 2016</td>\n",
       "      <td>The Secret Life of Pets</td>\n",
       "      <td>75000000</td>\n",
       "      <td>368384330</td>\n",
       "      <td>886750534</td>\n",
       "      <td>811750534</td>\n",
       "      <td>2016</td>\n",
       "      <td>1082.334045</td>\n",
       "    </tr>\n",
       "    <tr>\n",
       "      <th>629</th>\n",
       "      <td>30</td>\n",
       "      <td>Jun 30, 2017</td>\n",
       "      <td>Despicable Me 3</td>\n",
       "      <td>75000000</td>\n",
       "      <td>264624300</td>\n",
       "      <td>1034727750</td>\n",
       "      <td>959727750</td>\n",
       "      <td>2017</td>\n",
       "      <td>1279.637000</td>\n",
       "    </tr>\n",
       "  </tbody>\n",
       "</table>\n",
       "</div>"
      ],
      "text/plain": [
       "     id  release_date                    movie  production_budget  \\\n",
       "621  22   Jul 3, 2013          Despicable Me 2           76000000   \n",
       "625  26   Jul 8, 2016  The Secret Life of Pets           75000000   \n",
       "629  30  Jun 30, 2017          Despicable Me 3           75000000   \n",
       "\n",
       "     domestic_gross  worldwide_gross  total_profit  year        ROI %  \n",
       "621       368065385        975216835     899216835  2013  1183.180046  \n",
       "625       368384330        886750534     811750534  2016  1082.334045  \n",
       "629       264624300       1034727750     959727750  2017  1279.637000  "
      ]
     },
     "execution_count": 128,
     "metadata": {},
     "output_type": "execute_result"
    }
   ],
   "source": [
    "highest_rois.head(3)"
   ]
  },
  {
   "cell_type": "raw",
   "metadata": {},
   "source": [
    "Using genre information from IMDB.com we created the below dictionary that displays the amount of films from each genre below"
   ]
  },
  {
   "cell_type": "code",
   "execution_count": 1,
   "metadata": {},
   "outputs": [],
   "source": [
    "genres_top100roi = {'Horror/Thriller': 45, 'Comedy' : 17, 'Drama/Romance' : 16, 'Sci-fi' : 5, 'Animation' : 5, 'Musical' : 3, 'Documentary' : 2, 'Sport' : 2, 'Adventure' : 1}\n",
    "\n",
    "\n"
   ]
  },
  {
   "cell_type": "code",
   "execution_count": 4,
   "metadata": {},
   "outputs": [
    {
     "data": {
      "image/png": "[encoded data removed]",
      "text/plain": [
       "<Figure size 1080x576 with 1 Axes>"
      ]
     },
     "metadata": {
      "needs_background": "light"
     },
     "output_type": "display_data"
    }
   ],
   "source": [
    "fig, ax = plt.subplots(figsize = (15, 8))\n",
    "\n",
    "plt.bar(range(len(genres_top100roi)), genres_top100roi.values(), align='center', color = 'b')\n",
    "plt.xticks(range(len(genres_top100roi)), list(genres_top100roi.keys()))\n",
    "\n",
    "\n",
    "plt.xlabel('Movie Genre')\n",
    "plt.ylabel('Amount of Films in top 100')\n",
    "plt.title('Genre Distribution of the Top 100 Films by ROI')\n",
    "\n",
    "\n",
    "plt.show()\n"
   ]
  },
  {
   "cell_type": "code",
   "execution_count": null,
   "metadata": {},
   "outputs": [],
   "source": []
  }
 ],
 "metadata": {
  "kernelspec": {
   "display_name": "Python 3",
   "language": "python",
   "name": "python3"
  },
  "language_info": {
   "codemirror_mode": {
    "name": "ipython",
    "version": 3
   },
   "file_extension": ".py",
   "mimetype": "text/x-python",
   "name": "python",
   "nbconvert_exporter": "python",
   "pygments_lexer": "ipython3",
   "version": "3.8.5"
  }
 },
 "nbformat": 4,
 "nbformat_minor": 4
}
