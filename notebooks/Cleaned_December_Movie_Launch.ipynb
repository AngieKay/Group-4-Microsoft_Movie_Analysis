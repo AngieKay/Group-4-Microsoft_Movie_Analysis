{
 "cells": [
  {
   "cell_type": "markdown",
   "metadata": {},
   "source": [
    "# # Box Office Mojo WebScraping/Analysis"
   ]
  },
  {
   "cell_type": "code",
   "execution_count": 2,
   "metadata": {},
   "outputs": [],
   "source": [
    "#Start Webscraping"
   ]
  },
  {
   "cell_type": "code",
   "execution_count": 3,
   "metadata": {},
   "outputs": [],
   "source": [
    "import pandas as pd\n",
    "from matplotlib import pyplot as plt\n",
    "import numpy as np\n",
    "import requests\n",
    "page = requests.get('https://www.boxofficemojo.com/year/2018/?grossesOption=totalGrosses&sortDir=asc&sort=releaseDate&ref_=bo_yld__resort')\n",
    "page2 = requests.get('https://www.boxofficemojo.com/year/2019/?grossesOption=totalGrosses&sortDir=asc&sort=releaseDate&ref_=bo_yld__resort')\n"
   ]
  },
  {
   "cell_type": "code",
   "execution_count": 4,
   "metadata": {},
   "outputs": [
    {
     "data": {
      "text/plain": [
       "200"
      ]
     },
     "execution_count": 4,
     "metadata": {},
     "output_type": "execute_result"
    }
   ],
   "source": [
    "page2.status_code"
   ]
  },
  {
   "cell_type": "code",
   "execution_count": 5,
   "metadata": {},
   "outputs": [],
   "source": [
    "from bs4 import BeautifulSoup as BS\n",
    "url = \"https://www.boxofficemojo.com/year/2018/?sort=gross&ref_=bo_yld__resort#table\"\n",
    "page=requests.get(url)\n",
    "soup = BS(page.content, 'html.parser')\n",
    "url2 = \"https://www.boxofficemojo.com/year/2019/?sort=gross&ref_=bo_yld__resort#table\"\n",
    "page2=requests.get(url2)\n",
    "soup2 = BS(page2.content, 'html.parser')"
   ]
  },
  {
   "cell_type": "code",
   "execution_count": 6,
   "metadata": {},
   "outputs": [],
   "source": [
    "#Making lists from the scraped Data"
   ]
  },
  {
   "cell_type": "code",
   "execution_count": 7,
   "metadata": {},
   "outputs": [],
   "source": [
    "titles = soup.find_all(class_='a-text-left mojo-field-type-release mojo-cell-wide')\n",
    "titles2 = soup2.find_all(class_='a-text-left mojo-field-type-release mojo-cell-wide')\n",
    "all_titles = []\n",
    "for title in titles:\n",
    "    all_titles.append(title.select('a')[0].string)\n",
    "all_titles_2 = []\n",
    "for title in titles2:\n",
    "    all_titles_2.append(title.select('a')[0].string)\n"
   ]
  },
  {
   "cell_type": "code",
   "execution_count": 8,
   "metadata": {},
   "outputs": [],
   "source": [
    "gross = soup.find_all(class_='a-text-right mojo-field-type-money mojo-estimatable')\n",
    "gross_2 = soup2.find_all(class_='a-text-right mojo-field-type-money mojo-estimatable')\n",
    "gross_list = []\n",
    "for i in gross:\n",
    "    gross_list.append(i.string)\n",
    "gross_list2 = []\n",
    "for i in gross_2:\n",
    "    gross_list2.append(i.string)"
   ]
  },
  {
   "cell_type": "code",
   "execution_count": 9,
   "metadata": {},
   "outputs": [],
   "source": [
    "theaters = soup.find_all(class_='a-text-right mojo-field-type-positive_integer')\n",
    "theaters2 = soup2.find_all(class_='a-text-right mojo-field-type-positive_integer')\n",
    "theater_list = []\n",
    "for i in theaters:\n",
    "    theater_list.append(i.string)\n",
    "theater_list2 = []\n",
    "for i in theaters2:\n",
    "    theater_list2.append(i.string)"
   ]
  },
  {
   "cell_type": "code",
   "execution_count": 10,
   "metadata": {},
   "outputs": [],
   "source": [
    "release_date = soup.find_all(class_ = 'a-text-left mojo-field-type-date a-nowrap')\n",
    "release_date2 = soup2.find_all(class_ = 'a-text-left mojo-field-type-date a-nowrap')\n",
    "release_date_list = []\n",
    "for i in release_date:\n",
    "    release_date_list.append(i.string)\n",
    "release_date_list2 = []\n",
    "for i in release_date2:\n",
    "    release_date_list2.append(i.string)"
   ]
  },
  {
   "cell_type": "code",
   "execution_count": 11,
   "metadata": {},
   "outputs": [],
   "source": [
    "distributor = soup.find_all(class_ = 'a-text-left mojo-field-type-studio')\n",
    "distributor2 = soup2.find_all(class_ = 'a-text-left mojo-field-type-studio')\n",
    "distributor_list = []\n",
    "for i in distributor:\n",
    "    distributor_list.append(i.get_text())\n",
    "distributor_list2 = []\n",
    "for i in distributor2:\n",
    "    distributor_list2.append(i.get_text())"
   ]
  },
  {
   "cell_type": "code",
   "execution_count": 12,
   "metadata": {},
   "outputs": [],
   "source": [
    "#create the dataFrame "
   ]
  },
  {
   "cell_type": "code",
   "execution_count": 13,
   "metadata": {},
   "outputs": [],
   "source": [
    "import numpy as np\n",
    "movies_2018 = pd.DataFrame(list(zip(all_titles, gross_list, theater_list, release_date_list, distributor_list)),\n",
    "                           columns =['Movie_Title','Gross_Revenue', 'Amount_of_Theaters', 'Realease_Date', 'Distributor'],)\n",
    "movies_2019 = pd.DataFrame(list(zip(all_titles_2, gross_list2, theater_list2, release_date_list2, distributor_list2)),\n",
    "                           columns =['Movie_Title','Gross_Revenue', 'Amount_of_Theaters', 'Realease_Date', 'Distributor'],)"
   ]
  },
  {
   "cell_type": "code",
   "execution_count": 14,
   "metadata": {},
   "outputs": [],
   "source": [
    "#set the index"
   ]
  },
  {
   "cell_type": "code",
   "execution_count": 15,
   "metadata": {},
   "outputs": [],
   "source": [
    "movies_2018.set_index('Movie_Title', inplace = True)\n",
    "movies_2019.set_index('Movie_Title', inplace = True)"
   ]
  },
  {
   "cell_type": "code",
   "execution_count": 16,
   "metadata": {},
   "outputs": [],
   "source": [
    "#No nulls. No duplicates. Moving on to changing datatypes for gross revenue, amount of theaters, and release date."
   ]
  },
  {
   "cell_type": "code",
   "execution_count": 17,
   "metadata": {},
   "outputs": [],
   "source": [
    "movies_2018['Gross_Revenue'] = movies_2018['Gross_Revenue'].str.replace(r'$', '')\n",
    "movies_2018['Gross_Revenue'] = movies_2018['Gross_Revenue'].str.replace(r',', '')\n",
    "movies_2019['Gross_Revenue'] = movies_2019['Gross_Revenue'].str.replace(r'$', '')\n",
    "movies_2019['Gross_Revenue'] = movies_2019['Gross_Revenue'].str.replace(r',', '')"
   ]
  },
  {
   "cell_type": "code",
   "execution_count": 18,
   "metadata": {},
   "outputs": [],
   "source": [
    "movies_2018['Amount_of_Theaters'] = movies_2018['Amount_of_Theaters'].str.replace(r',', '')\n",
    "movies_2019['Amount_of_Theaters'] = movies_2019['Amount_of_Theaters'].str.replace(r',', '')\n",
    "movies_2018['Distributor'] = movies_2018['Distributor'].str.rstrip('\\n\\n')\n",
    "movies_2019['Distributor'] = movies_2019['Distributor'].str.rstrip('\\n\\n')"
   ]
  },
  {
   "cell_type": "code",
   "execution_count": 19,
   "metadata": {},
   "outputs": [
    {
     "name": "stdout",
     "output_type": "stream",
     "text": [
      "<class 'pandas.core.frame.DataFrame'>\n",
      "Index: 200 entries, Avengers: Endgame to Faustina: Love and Mercy\n",
      "Data columns (total 4 columns):\n",
      " #   Column              Non-Null Count  Dtype \n",
      "---  ------              --------------  ----- \n",
      " 0   Gross_Revenue       200 non-null    object\n",
      " 1   Amount_of_Theaters  200 non-null    object\n",
      " 2   Realease_Date       200 non-null    object\n",
      " 3   Distributor         200 non-null    object\n",
      "dtypes: object(4)\n",
      "memory usage: 7.8+ KB\n"
     ]
    }
   ],
   "source": [
    "movies_2019.info()"
   ]
  },
  {
   "cell_type": "code",
   "execution_count": 20,
   "metadata": {},
   "outputs": [],
   "source": [
    "#convert to integers"
   ]
  },
  {
   "cell_type": "code",
   "execution_count": 21,
   "metadata": {},
   "outputs": [],
   "source": [
    "movies_2018['Gross_Revenue'] = pd.to_numeric(movies_2018['Gross_Revenue'])\n",
    "movies_2019['Gross_Revenue'] = pd.to_numeric(movies_2019['Gross_Revenue'])\n",
    "movies_2018['Amount_of_Theaters'] = pd.to_numeric(movies_2018['Amount_of_Theaters'])\n",
    "movies_2019['Amount_of_Theaters'] = pd.to_numeric(movies_2019['Amount_of_Theaters'])\n",
    "movies_2018['Realease_Date'] = movies_2018.Realease_Date.astype(str)\n",
    "movies_2019['Realease_Date'] = movies_2019.Realease_Date.astype(str)\n"
   ]
  },
  {
   "cell_type": "code",
   "execution_count": 22,
   "metadata": {},
   "outputs": [
    {
     "name": "stdout",
     "output_type": "stream",
     "text": [
      "<class 'pandas.core.frame.DataFrame'>\n",
      "Index: 200 entries, Avengers: Endgame to Faustina: Love and Mercy\n",
      "Data columns (total 4 columns):\n",
      " #   Column              Non-Null Count  Dtype \n",
      "---  ------              --------------  ----- \n",
      " 0   Gross_Revenue       200 non-null    int64 \n",
      " 1   Amount_of_Theaters  200 non-null    int64 \n",
      " 2   Realease_Date       200 non-null    object\n",
      " 3   Distributor         200 non-null    object\n",
      "dtypes: int64(2), object(2)\n",
      "memory usage: 7.8+ KB\n"
     ]
    }
   ],
   "source": [
    "movies_2019.info()"
   ]
  },
  {
   "cell_type": "code",
   "execution_count": 23,
   "metadata": {},
   "outputs": [],
   "source": [
    "movies_2018['Realease_Date'] = movies_2018.Realease_Date.astype(str)\n",
    "movies_2019['Realease_Date'] = movies_2019.Realease_Date.astype(str)"
   ]
  },
  {
   "cell_type": "code",
   "execution_count": 24,
   "metadata": {},
   "outputs": [],
   "source": [
    "#convert months to abbreviations"
   ]
  },
  {
   "cell_type": "code",
   "execution_count": 25,
   "metadata": {},
   "outputs": [],
   "source": [
    "movies_2018['Realease_Date'] = movies_2018['Realease_Date'].map(lambda x: str(x)[0:3])\n",
    "movies_2019['Realease_Date'] = movies_2019['Realease_Date'].map(lambda x: str(x)[0:3])"
   ]
  },
  {
   "cell_type": "code",
   "execution_count": 26,
   "metadata": {},
   "outputs": [],
   "source": [
    "#count of the top grossing movies by month"
   ]
  },
  {
   "cell_type": "code",
   "execution_count": 27,
   "metadata": {},
   "outputs": [],
   "source": [
    "top_grossing_2018 = movies_2018['Realease_Date'].value_counts()\n",
    "top_grossing_2019 = movies_2019['Realease_Date'].value_counts()"
   ]
  },
  {
   "cell_type": "code",
   "execution_count": 28,
   "metadata": {},
   "outputs": [],
   "source": [
    "movies_2018['Year']= 2018\n",
    "movies_2019['Year']= 2019"
   ]
  },
  {
   "cell_type": "code",
   "execution_count": 29,
   "metadata": {},
   "outputs": [],
   "source": [
    "#concat the DataFrames"
   ]
  },
  {
   "cell_type": "code",
   "execution_count": 30,
   "metadata": {},
   "outputs": [],
   "source": [
    "df = pd.concat([movies_2018,movies_2019])"
   ]
  },
  {
   "cell_type": "code",
   "execution_count": 31,
   "metadata": {},
   "outputs": [],
   "source": [
    "#We have the most Top Grossing Movies in December and November. The problem now is we have to see if that is\n",
    "#because they released the most movies during that time frame or were they on par for the same amount of realeases\n",
    "#as the other months"
   ]
  },
  {
   "cell_type": "code",
   "execution_count": 32,
   "metadata": {},
   "outputs": [],
   "source": [
    "#Time to scrape some more data to get the total releases per month for calendar years 2018 and 2019"
   ]
  },
  {
   "cell_type": "code",
   "execution_count": 33,
   "metadata": {},
   "outputs": [
    {
     "data": {
      "text/plain": [
       "200"
      ]
     },
     "execution_count": 33,
     "metadata": {},
     "output_type": "execute_result"
    }
   ],
   "source": [
    "page3 = requests.get('https://www.boxofficemojo.com/month/by-year/2018/?grossesOption=calendarGrosses')\n",
    "page3.status_code"
   ]
  },
  {
   "cell_type": "code",
   "execution_count": 34,
   "metadata": {},
   "outputs": [],
   "source": [
    "url3 = \"https://www.boxofficemojo.com/month/by-year/2018/?grossesOption=calendarGrosses\"\n",
    "page3=requests.get(url3)\n",
    "soup3 = BS(page3.content, 'html.parser')\n",
    "url4 = \"https://www.boxofficemojo.com/month/by-year/2019/?grossesOption=calendarGrosses\"\n",
    "page4=requests.get(url4)\n",
    "soup4 = BS(page4.content, 'html.parser')"
   ]
  },
  {
   "cell_type": "code",
   "execution_count": 35,
   "metadata": {},
   "outputs": [],
   "source": [
    "months = soup3.find_all(class_='a-text-left mojo-header-column mojo-truncate mojo-field-type-named_interval mojo-sort-column')"
   ]
  },
  {
   "cell_type": "code",
   "execution_count": 36,
   "metadata": {},
   "outputs": [],
   "source": [
    "month_list_2018 = []\n",
    "for i in months:\n",
    "    month_list_2018.append(i.get_text())"
   ]
  },
  {
   "cell_type": "code",
   "execution_count": 37,
   "metadata": {},
   "outputs": [],
   "source": [
    "amount_of_realeases = soup3.find_all(class_='a-text-right mojo-field-type-positive_integer')\n",
    "amount_of_realeases2 = soup4.find_all(class_='a-text-right mojo-field-type-positive_integer')\n",
    "#the second one is for 2019, the first is 2018"
   ]
  },
  {
   "cell_type": "code",
   "execution_count": 38,
   "metadata": {},
   "outputs": [],
   "source": [
    "amount_of_realeases_2018 =[]\n",
    "for i in amount_of_realeases:\n",
    "    amount_of_realeases_2018.append(i.get_text())\n",
    "amount_of_realeases_2019 =[]\n",
    "for i in amount_of_realeases2:\n",
    "    amount_of_realeases_2019.append(i.get_text())\n"
   ]
  },
  {
   "cell_type": "code",
   "execution_count": 39,
   "metadata": {},
   "outputs": [],
   "source": [
    "#New DataFrame with the info"
   ]
  },
  {
   "cell_type": "code",
   "execution_count": 40,
   "metadata": {},
   "outputs": [],
   "source": [
    "number_of_releases = pd.DataFrame(list(zip(month_list_2018, amount_of_realeases_2018, amount_of_realeases_2019,)),\n",
    "                           columns =['Months','Releases_in_2018', 'Releases_in_2019', ])\n",
    "topGrossingValues = pd.DataFrame(list(zip(top_grossing_2018, top_grossing_2019)),\n",
    "                           columns =['Releases_in_2018', 'Releases_in_2019', ])\n"
   ]
  },
  {
   "cell_type": "code",
   "execution_count": 41,
   "metadata": {},
   "outputs": [],
   "source": [
    "topGrossingValues2019 = pd.DataFrame(top_grossing_2019)\n",
    "topGrossingValues2018= pd.DataFrame(top_grossing_2018)\n",
    "topGrossingValues2018.reset_index(inplace =True)\n",
    "topGrossingValues2019.reset_index(inplace = True)\n",
    "topGrossingValues2018.rename(columns ={'index':'Months'}, inplace = True)\n",
    "topGrossingValues2019.rename(columns ={'index':'Months'}, inplace = True)\n",
    "tgv18_19 = topGrossingValues2018.merge(topGrossingValues2019, on = 'Months',)"
   ]
  },
  {
   "cell_type": "code",
   "execution_count": 42,
   "metadata": {},
   "outputs": [],
   "source": [
    "#merge with the previously scraped DataFrame so that we're only working on one"
   ]
  },
  {
   "cell_type": "code",
   "execution_count": 43,
   "metadata": {},
   "outputs": [],
   "source": [
    "number_of_releases['Months']=number_of_releases['Months'].map(lambda x: str(x)[0:3])\n",
    "releases = number_of_releases.merge(tgv18_19,on ='Months')\n",
    "releases['Releases_in_2018'] = releases['Releases_in_2018'].astype(int)\n",
    "releases['Releases_in_2019'] = releases['Releases_in_2019'].astype(int)\n",
    "releases['sum_of_releases'] = releases['Releases_in_2018'] +releases['Releases_in_2019']\n",
    "releases['sum_of_top_grossing'] = releases['Realease_Date_x'] + releases['Realease_Date_y']\n",
    "releases['percent_of_top_grossing_movies_released'] = round((releases['sum_of_top_grossing']/releases['sum_of_releases'])*100,2)\n",
    "releases = releases.sort_index(ascending = False)"
   ]
  },
  {
   "cell_type": "code",
   "execution_count": 44,
   "metadata": {},
   "outputs": [],
   "source": [
    "#Create Graph"
   ]
  },
  {
   "cell_type": "code",
   "execution_count": 45,
   "metadata": {},
   "outputs": [
    {
     "data": {
      "text/plain": [
       "Text(0.5, 1.0, 'Chance that an individual movie will reach top 200 status for that year')"
      ]
     },
     "execution_count": 45,
     "metadata": {},
     "output_type": "execute_result"
    },
    {
     "data": {
      "image/png": "[encoded data removed]",
      "text/plain": [
       "<Figure size 1296x720 with 1 Axes>"
      ]
     },
     "metadata": {
      "needs_background": "light"
     },
     "output_type": "display_data"
    }
   ],
   "source": [
    "import matplotlib.pyplot as plt\n",
    "fig, ax =plt.subplots(figsize=(18,10))\n",
    "ax.bar(releases['Months'],height = releases['percent_of_top_grossing_movies_released'])\n",
    "ax.set_ylim(0,20)\n",
    "for index,data in enumerate(releases['percent_of_top_grossing_movies_released']):\n",
    "    plt.text(x=index , y =data+.1 , s=f\"{data}\"+'%' , fontdict=dict(fontsize=13))\n",
    "ax.set_xlabel('Month', size = 15)\n",
    "ax.set_ylabel('Percentage', size =15)\n",
    "ax.set_title('Chance that an individual movie will reach top 200 status for that year', size =20)"
   ]
  },
  {
   "cell_type": "code",
   "execution_count": 46,
   "metadata": {},
   "outputs": [],
   "source": [
    "#Reading in a new DataFrame"
   ]
  },
  {
   "cell_type": "code",
   "execution_count": 50,
   "metadata": {},
   "outputs": [],
   "source": [
    "df_budgets = pd.read_csv('data/zippedData/tn.movie_budgets.csv.gz')"
   ]
  },
  {
   "cell_type": "markdown",
   "metadata": {},
   "source": [
    "# Budget Data"
   ]
  },
  {
   "cell_type": "raw",
   "metadata": {},
   "source": [
    "The budgets dataframe comes the public dataset on the-numbers.com that includes over 5000 movies from 1975 and their corresponding production budget, domestic gross and worldwide gross. "
   ]
  },
  {
   "cell_type": "markdown",
   "metadata": {},
   "source": [
    "# Data Cleaning"
   ]
  },
  {
   "cell_type": "raw",
   "metadata": {},
   "source": [
    "For the df_budgets file, we removed the dollar signs and commas from the three columns containing amounts of USD. Afterwards, we transformed these values from strings to integers so we could work with them mathematically.\n",
    "\n",
    "We then found the difference between worldwide gross and production budget and used it to create a new column displaying a film's total profit"
   ]
  },
  {
   "cell_type": "code",
   "execution_count": 51,
   "metadata": {},
   "outputs": [],
   "source": [
    "df_budgets['production_budget'] = df_budgets['production_budget'].str.replace('$','')\n",
    "df_budgets['domestic_gross'] = df_budgets['domestic_gross'].str.replace('$','')\n",
    "df_budgets['worldwide_gross'] = df_budgets['worldwide_gross'].str.replace('$','')\n",
    "df_budgets['production_budget'] = df_budgets['production_budget'].str.replace(',','')\n",
    "df_budgets['domestic_gross'] = df_budgets['domestic_gross'].str.replace(',','')\n",
    "df_budgets['worldwide_gross'] = df_budgets['worldwide_gross'].str.replace(',','')"
   ]
  },
  {
   "cell_type": "code",
   "execution_count": 52,
   "metadata": {},
   "outputs": [],
   "source": [
    "df_budgets['production_budget'] = df_budgets['production_budget'].astype(int)\n",
    "df_budgets['domestic_gross'] = df_budgets['domestic_gross'].astype(int)\n",
    "df_budgets['worldwide_gross'] = df_budgets['worldwide_gross'].astype(int)\n",
    "\n",
    "df_budgets['total_profit'] = df_budgets['worldwide_gross'] - df_budgets['production_budget']"
   ]
  },
  {
   "cell_type": "raw",
   "metadata": {},
   "source": [
    "# Afterwards, we created a new column that indicates the year the movie was made in, taken from the release_date column. Since we wanted our analysis to reflect the current public and did not want to account for inflation rates, we decided to only use data starting in 2010."
   ]
  },
  {
   "cell_type": "code",
   "execution_count": 53,
   "metadata": {},
   "outputs": [],
   "source": [
    "df_budgets['year'] = pd.DatetimeIndex(df_budgets['release_date']).year\n",
    "df_budgets = df_budgets.loc[df_budgets['year'] >= 2010]"
   ]
  },
  {
   "cell_type": "raw",
   "metadata": {},
   "source": [
    "We then created a return on investment column ('ROI %') that measure's the ratio of overall profit compared to production budget."
   ]
  },
  {
   "cell_type": "code",
   "execution_count": 54,
   "metadata": {},
   "outputs": [],
   "source": [
    "df_budgets['ROI %'] = (df_budgets['total_profit'] / df_budgets['production_budget']) * 100"
   ]
  },
  {
   "cell_type": "markdown",
   "metadata": {},
   "source": [
    "# Worth Spending the Big Buck$?"
   ]
  },
  {
   "cell_type": "raw",
   "metadata": {},
   "source": [
    "To look at whether or not producing films with the most expensive budgets would be worth it, we created a new data frame that only included movies that had a production budget of $150 million or more. "
   ]
  },
  {
   "cell_type": "code",
   "execution_count": 55,
   "metadata": {},
   "outputs": [],
   "source": [
    "df_highbudget = df_budgets.loc[df_budgets['production_budget'] >= 150000000]"
   ]
  },
  {
   "cell_type": "raw",
   "metadata": {},
   "source": [
    "We considered a box office success anything with a return on investment of above 250% and a box office failure anything with a return on investment of below 150%. Anything in the middle is labeled as neutral. Of the 136 films reviewed, there were 59 sucesses and 50 failures."
   ]
  },
  {
   "cell_type": "code",
   "execution_count": 56,
   "metadata": {},
   "outputs": [
    {
     "name": "stderr",
     "output_type": "stream",
     "text": [
      "<ipython-input-56-12655acf0e7b>:1: SettingWithCopyWarning: \n",
      "A value is trying to be set on a copy of a slice from a DataFrame.\n",
      "Try using .loc[row_indexer,col_indexer] = value instead\n",
      "\n",
      "See the caveats in the documentation: https://pandas.pydata.org/pandas-docs/stable/user_guide/indexing.html#returning-a-view-versus-a-copy\n",
      "  df_highbudget['Box Office Success'] = np.where(df_highbudget['ROI %'] > 250, True, False)\n",
      "<ipython-input-56-12655acf0e7b>:2: SettingWithCopyWarning: \n",
      "A value is trying to be set on a copy of a slice from a DataFrame.\n",
      "Try using .loc[row_indexer,col_indexer] = value instead\n",
      "\n",
      "See the caveats in the documentation: https://pandas.pydata.org/pandas-docs/stable/user_guide/indexing.html#returning-a-view-versus-a-copy\n",
      "  df_highbudget['Box Office Failure'] = np.where(df_highbudget['ROI %'] < 150, True, False)\n"
     ]
    }
   ],
   "source": [
    "df_highbudget['Box Office Success'] = np.where(df_highbudget['ROI %'] > 250, True, False)\n",
    "df_highbudget['Box Office Failure'] = np.where(df_highbudget['ROI %'] < 150, True, False)\n"
   ]
  },
  {
   "cell_type": "code",
   "execution_count": 57,
   "metadata": {},
   "outputs": [
    {
     "data": {
      "text/plain": [
       "False    77\n",
       "True     59\n",
       "Name: Box Office Success, dtype: int64"
      ]
     },
     "execution_count": 57,
     "metadata": {},
     "output_type": "execute_result"
    }
   ],
   "source": [
    "df_highbudget['Box Office Success'].value_counts()"
   ]
  },
  {
   "cell_type": "code",
   "execution_count": 58,
   "metadata": {},
   "outputs": [
    {
     "data": {
      "text/plain": [
       "False    86\n",
       "True     50\n",
       "Name: Box Office Failure, dtype: int64"
      ]
     },
     "execution_count": 58,
     "metadata": {},
     "output_type": "execute_result"
    }
   ],
   "source": [
    "df_highbudget['Box Office Failure'].value_counts()"
   ]
  },
  {
   "cell_type": "code",
   "execution_count": 59,
   "metadata": {},
   "outputs": [
    {
     "data": {
      "image/png": "[encoded data removed]",
      "text/plain": [
       "<Figure size 504x504 with 1 Axes>"
      ]
     },
     "metadata": {},
     "output_type": "display_data"
    }
   ],
   "source": [
    "labels = 'Box Office Bomb', 'Box Office Success', 'Neutral'\n",
    "amts = [50, 59, 27]\n",
    "\n",
    "fig, ax = plt.subplots(figsize=(7,7))\n",
    "ax.pie(amts, labels = labels, autopct='%1.1f%%', labeldistance=1.06,)\n",
    "ax.axis('equal')\n",
    "\n",
    "plt.title('High Budget Films Success Rate');"
   ]
  },
  {
   "cell_type": "code",
   "execution_count": 60,
   "metadata": {},
   "outputs": [
    {
     "data": {
      "image/png": "[encoded data removed]",
      "text/plain": [
       "<Figure size 576x576 with 1 Axes>"
      ]
     },
     "metadata": {
      "needs_background": "light"
     },
     "output_type": "display_data"
    }
   ],
   "source": [
    "fig, ax = plt.subplots(figsize = (8, 8))\n",
    "\n",
    "plt.scatter(df_highbudget['production_budget'], df_highbudget['ROI %'] )\n",
    "plt.xlabel('Budget (in 100s of millions)',)\n",
    "plt.ylabel('ROI %')\n",
    "plt.axhline(y=0, color='r', linestyle='-')\n",
    "plt.axhline(y=250, color='g', linestyle='-');"
   ]
  },
  {
   "cell_type": "raw",
   "metadata": {},
   "source": [
    "Examining the high budget films that were successful, we noticed that a majority of these films were not stand alone movies. Most of the high budget films with high return value were sequels, prequels, or a part of an overarching 'superhero universe.'  From this we concluded that without an already popular franchise to fall back on, high budget films were a large risk to produce. We recommend using a high production budget for a sequel to an already successful movie."
   ]
  },
  {
   "cell_type": "code",
   "execution_count": 61,
   "metadata": {
    "scrolled": false
   },
   "outputs": [
    {
     "data": {
      "text/html": [
       "<div>\n",
       "<style scoped>\n",
       "    .dataframe tbody tr th:only-of-type {\n",
       "        vertical-align: middle;\n",
       "    }\n",
       "\n",
       "    .dataframe tbody tr th {\n",
       "        vertical-align: top;\n",
       "    }\n",
       "\n",
       "    .dataframe thead th {\n",
       "        text-align: right;\n",
       "    }\n",
       "</style>\n",
       "<table border=\"1\" class=\"dataframe\">\n",
       "  <thead>\n",
       "    <tr style=\"text-align: right;\">\n",
       "      <th></th>\n",
       "      <th>id</th>\n",
       "      <th>release_date</th>\n",
       "      <th>movie</th>\n",
       "      <th>production_budget</th>\n",
       "      <th>domestic_gross</th>\n",
       "      <th>worldwide_gross</th>\n",
       "      <th>total_profit</th>\n",
       "      <th>year</th>\n",
       "      <th>ROI %</th>\n",
       "      <th>Box Office Success</th>\n",
       "      <th>Box Office Failure</th>\n",
       "    </tr>\n",
       "  </thead>\n",
       "  <tbody>\n",
       "    <tr>\n",
       "      <th>3</th>\n",
       "      <td>4</td>\n",
       "      <td>May 1, 2015</td>\n",
       "      <td>Avengers: Age of Ultron</td>\n",
       "      <td>330600000</td>\n",
       "      <td>459005868</td>\n",
       "      <td>1403013963</td>\n",
       "      <td>1072413963</td>\n",
       "      <td>2015</td>\n",
       "      <td>324.384139</td>\n",
       "      <td>True</td>\n",
       "      <td>False</td>\n",
       "    </tr>\n",
       "    <tr>\n",
       "      <th>4</th>\n",
       "      <td>5</td>\n",
       "      <td>Dec 15, 2017</td>\n",
       "      <td>Star Wars Ep. VIII: The Last Jedi</td>\n",
       "      <td>317000000</td>\n",
       "      <td>620181382</td>\n",
       "      <td>1316721747</td>\n",
       "      <td>999721747</td>\n",
       "      <td>2017</td>\n",
       "      <td>315.369636</td>\n",
       "      <td>True</td>\n",
       "      <td>False</td>\n",
       "    </tr>\n",
       "    <tr>\n",
       "      <th>5</th>\n",
       "      <td>6</td>\n",
       "      <td>Dec 18, 2015</td>\n",
       "      <td>Star Wars Ep. VII: The Force Awakens</td>\n",
       "      <td>306000000</td>\n",
       "      <td>936662225</td>\n",
       "      <td>2053311220</td>\n",
       "      <td>1747311220</td>\n",
       "      <td>2015</td>\n",
       "      <td>571.016739</td>\n",
       "      <td>True</td>\n",
       "      <td>False</td>\n",
       "    </tr>\n",
       "    <tr>\n",
       "      <th>6</th>\n",
       "      <td>7</td>\n",
       "      <td>Apr 27, 2018</td>\n",
       "      <td>Avengers: Infinity War</td>\n",
       "      <td>300000000</td>\n",
       "      <td>678815482</td>\n",
       "      <td>2048134200</td>\n",
       "      <td>1748134200</td>\n",
       "      <td>2018</td>\n",
       "      <td>582.711400</td>\n",
       "      <td>True</td>\n",
       "      <td>False</td>\n",
       "    </tr>\n",
       "  </tbody>\n",
       "</table>\n",
       "</div>"
      ],
      "text/plain": [
       "   id  release_date                                 movie  production_budget  \\\n",
       "3   4   May 1, 2015               Avengers: Age of Ultron          330600000   \n",
       "4   5  Dec 15, 2017     Star Wars Ep. VIII: The Last Jedi          317000000   \n",
       "5   6  Dec 18, 2015  Star Wars Ep. VII: The Force Awakens          306000000   \n",
       "6   7  Apr 27, 2018                Avengers: Infinity War          300000000   \n",
       "\n",
       "   domestic_gross  worldwide_gross  total_profit  year       ROI %  \\\n",
       "3       459005868       1403013963    1072413963  2015  324.384139   \n",
       "4       620181382       1316721747     999721747  2017  315.369636   \n",
       "5       936662225       2053311220    1747311220  2015  571.016739   \n",
       "6       678815482       2048134200    1748134200  2018  582.711400   \n",
       "\n",
       "   Box Office Success  Box Office Failure  \n",
       "3                True               False  \n",
       "4                True               False  \n",
       "5                True               False  \n",
       "6                True               False  "
      ]
     },
     "execution_count": 61,
     "metadata": {},
     "output_type": "execute_result"
    }
   ],
   "source": [
    "df_highbudget.loc[df_highbudget['Box Office Success'] == True].head(4)"
   ]
  },
  {
   "cell_type": "code",
   "execution_count": 66,
   "metadata": {},
   "outputs": [],
   "source": [
    "import seaborn as sns"
   ]
  },
  {
   "cell_type": "code",
   "execution_count": 67,
   "metadata": {},
   "outputs": [],
   "source": [
    "df_hb_bos = df_highbudget.loc[df_highbudget['Box Office Success'] == True]"
   ]
  },
  {
   "cell_type": "code",
   "execution_count": 68,
   "metadata": {},
   "outputs": [
    {
     "name": "stderr",
     "output_type": "stream",
     "text": [
      "<ipython-input-68-207d04cda5a4>:3: SettingWithCopyWarning: \n",
      "A value is trying to be set on a copy of a slice from a DataFrame.\n",
      "Try using .loc[row_indexer,col_indexer] = value instead\n",
      "\n",
      "See the caveats in the documentation: https://pandas.pydata.org/pandas-docs/stable/user_guide/indexing.html#returning-a-view-versus-a-copy\n",
      "  df_hb_bos['Type'] = type_list\n",
      "<ipython-input-68-207d04cda5a4>:4: SettingWithCopyWarning: \n",
      "A value is trying to be set on a copy of a slice from a DataFrame.\n",
      "Try using .loc[row_indexer,col_indexer] = value instead\n",
      "\n",
      "See the caveats in the documentation: https://pandas.pydata.org/pandas-docs/stable/user_guide/indexing.html#returning-a-view-versus-a-copy\n",
      "  df_hb_bos['Subtype'] = subtype\n"
     ]
    }
   ],
   "source": [
    "type_list = ['Franchise', 'Franchise', 'Franchise', 'Franchise', 'Franchise', 'Franchise', 'Franchise', 'Franchise', 'Franchise', 'Franchise', 'Franchise', 'Franchise', 'Franchise', 'Franchise', 'Franchise', 'Franchise', 'Franchise', 'Franchise', 'Franchise', 'Franchise', 'Original', 'Franchise', 'Franchise', 'Franchise', 'Franchise', 'Franchise', 'Franchise', 'Franchise', 'Original', 'Franchise', 'Franchise', 'Franchise', 'Original', 'Original', 'Franchise', 'Franchise', 'Original', 'Franchise', 'Franchise', 'Franchise', 'Franchise', 'Franchise', 'Franchise', 'Franchise', 'Original', 'Original', 'Original', 'Franchise', 'Original', 'Franchise', 'Franchise', 'Franchise', 'Original', 'Original', 'Original', 'Franchise', 'Franchise', 'Franchise', 'Original']\n",
    "subtype = ['Marvel', 'Star Wars', 'Star Wars', 'Marvel', 'DC', 'Marvel', 'LOTR', 'LOTR', 'LOTR', 'Fast and Furious', 'Marvel', 'Jurassic Park', 'Transformers', 'Marvel', 'Incredibles', 'Star Wars', 'Finding Nemo', 'Toy Story', 'Marvel', 'Marvel', 'Live Action Remake', 'James Bond', 'Monsters Inc.', 'Marvel', 'Marvel', 'Transformers', 'Fast and Furious', 'Marvel', 'Live Action Remake', 'Harry Potter', 'Mission Impossible', 'Marvel', 'Live Action Remake', 'Animated', 'Marvel', 'DC', 'Animated', 'Jurassic Park', 'Marvel', 'Marvel', 'Marvel', 'Planet of the Apes', 'Shrek', 'Marvel', 'Animated', 'Original', 'Live Action Remake', 'DC', 'Original', 'Hunger Games', 'Fast and Furious', 'DC', 'Animated', 'Animated', 'Animated', 'Marvel', 'Mission Impossible', 'Kung Fu Panda', 'Original']\n",
    "df_hb_bos['Type'] = type_list\n",
    "df_hb_bos['Subtype'] = subtype"
   ]
  },
  {
   "cell_type": "code",
   "execution_count": 69,
   "metadata": {},
   "outputs": [
    {
     "data": {
      "text/plain": [
       "Text(0.5, 1.02, 'High Budget, High ROI Films by Type')"
      ]
     },
     "execution_count": 69,
     "metadata": {},
     "output_type": "execute_result"
    },
    {
     "data": {
      "image/png": "[encoded data removed]",
      "text/plain": [
       "<Figure size 720x612 with 1 Axes>"
      ]
     },
     "metadata": {},
     "output_type": "display_data"
    }
   ],
   "source": [
    "sns.set_style('white')\n",
    "df_hb_bos['Type'].value_counts().plot(kind = 'bar', figsize = (10, 8.5), rot = 0, color = 'blue')\n",
    "plt.ylabel('Film Count', labelpad = 14)\n",
    "plt.title('High Budget, High ROI Films by Type', y = 1.02)\n"
   ]
  },
  {
   "cell_type": "markdown",
   "metadata": {},
   "source": [
    "# ROI and Genre"
   ]
  },
  {
   "cell_type": "raw",
   "metadata": {},
   "source": [
    "To further examine which movies were producing the highest ROI's, we subsetted the budgets dataframe to only include the films with an ROI of over 1000."
   ]
  },
  {
   "cell_type": "code",
   "execution_count": 70,
   "metadata": {},
   "outputs": [],
   "source": [
    "highest_rois = df_budgets.loc[df_budgets['ROI %'] > 1000]"
   ]
  },
  {
   "cell_type": "code",
   "execution_count": 71,
   "metadata": {},
   "outputs": [
    {
     "data": {
      "text/html": [
       "<div>\n",
       "<style scoped>\n",
       "    .dataframe tbody tr th:only-of-type {\n",
       "        vertical-align: middle;\n",
       "    }\n",
       "\n",
       "    .dataframe tbody tr th {\n",
       "        vertical-align: top;\n",
       "    }\n",
       "\n",
       "    .dataframe thead th {\n",
       "        text-align: right;\n",
       "    }\n",
       "</style>\n",
       "<table border=\"1\" class=\"dataframe\">\n",
       "  <thead>\n",
       "    <tr style=\"text-align: right;\">\n",
       "      <th></th>\n",
       "      <th>id</th>\n",
       "      <th>release_date</th>\n",
       "      <th>movie</th>\n",
       "      <th>production_budget</th>\n",
       "      <th>domestic_gross</th>\n",
       "      <th>worldwide_gross</th>\n",
       "      <th>total_profit</th>\n",
       "      <th>year</th>\n",
       "      <th>ROI %</th>\n",
       "    </tr>\n",
       "  </thead>\n",
       "  <tbody>\n",
       "    <tr>\n",
       "      <th>621</th>\n",
       "      <td>22</td>\n",
       "      <td>Jul 3, 2013</td>\n",
       "      <td>Despicable Me 2</td>\n",
       "      <td>76000000</td>\n",
       "      <td>368065385</td>\n",
       "      <td>975216835</td>\n",
       "      <td>899216835</td>\n",
       "      <td>2013</td>\n",
       "      <td>1183.180046</td>\n",
       "    </tr>\n",
       "    <tr>\n",
       "      <th>625</th>\n",
       "      <td>26</td>\n",
       "      <td>Jul 8, 2016</td>\n",
       "      <td>The Secret Life of Pets</td>\n",
       "      <td>75000000</td>\n",
       "      <td>368384330</td>\n",
       "      <td>886750534</td>\n",
       "      <td>811750534</td>\n",
       "      <td>2016</td>\n",
       "      <td>1082.334045</td>\n",
       "    </tr>\n",
       "    <tr>\n",
       "      <th>629</th>\n",
       "      <td>30</td>\n",
       "      <td>Jun 30, 2017</td>\n",
       "      <td>Despicable Me 3</td>\n",
       "      <td>75000000</td>\n",
       "      <td>264624300</td>\n",
       "      <td>1034727750</td>\n",
       "      <td>959727750</td>\n",
       "      <td>2017</td>\n",
       "      <td>1279.637000</td>\n",
       "    </tr>\n",
       "  </tbody>\n",
       "</table>\n",
       "</div>"
      ],
      "text/plain": [
       "     id  release_date                    movie  production_budget  \\\n",
       "621  22   Jul 3, 2013          Despicable Me 2           76000000   \n",
       "625  26   Jul 8, 2016  The Secret Life of Pets           75000000   \n",
       "629  30  Jun 30, 2017          Despicable Me 3           75000000   \n",
       "\n",
       "     domestic_gross  worldwide_gross  total_profit  year        ROI %  \n",
       "621       368065385        975216835     899216835  2013  1183.180046  \n",
       "625       368384330        886750534     811750534  2016  1082.334045  \n",
       "629       264624300       1034727750     959727750  2017  1279.637000  "
      ]
     },
     "execution_count": 71,
     "metadata": {},
     "output_type": "execute_result"
    }
   ],
   "source": [
    "highest_rois.head(3)"
   ]
  },
  {
   "cell_type": "raw",
   "metadata": {},
   "source": [
    "Using genre information from IMDB.com we created the below dictionary that displays the amount of films from each genre below"
   ]
  },
  {
   "cell_type": "code",
   "execution_count": 72,
   "metadata": {},
   "outputs": [],
   "source": [
    "genres_top100roi = {'Horror/Thriller': 45, 'Comedy' : 17, 'Drama/Romance' : 16, 'Sci-fi' : 5, 'Animation' : 5, 'Musical' : 3, 'Documentary' : 2, 'Sport' : 2, 'Adventure' : 1}\n",
    "\n",
    "\n"
   ]
  },
  {
   "cell_type": "code",
   "execution_count": 73,
   "metadata": {},
   "outputs": [
    {
     "data": {
      "image/png": "[encoded data removed]",
      "text/plain": [
       "<Figure size 1080x576 with 1 Axes>"
      ]
     },
     "metadata": {},
     "output_type": "display_data"
    }
   ],
   "source": [
    "fig, ax = plt.subplots(figsize = (15, 8))\n",
    "\n",
    "plt.bar(range(len(genres_top100roi)), genres_top100roi.values(), align='center', color = 'b')\n",
    "plt.xticks(range(len(genres_top100roi)), list(genres_top100roi.keys()))\n",
    "\n",
    "\n",
    "plt.xlabel('Movie Genre')\n",
    "plt.ylabel('Amount of Films in top 100')\n",
    "plt.title('Genre Distribution of the Top 100 Films by ROI')\n",
    "\n",
    "\n",
    "plt.show()\n"
   ]
  },
  {
   "cell_type": "code",
   "execution_count": null,
   "metadata": {},
   "outputs": [],
   "source": []
  }
 ],
 "metadata": {
  "kernelspec": {
   "display_name": "Python 3",
   "language": "python",
   "name": "python3"
  },
  "language_info": {
   "codemirror_mode": {
    "name": "ipython",
    "version": 3
   },
   "file_extension": ".py",
   "mimetype": "text/x-python",
   "name": "python",
   "nbconvert_exporter": "python",
   "pygments_lexer": "ipython3",
   "version": "3.8.5"
  }
 },
 "nbformat": 4,
 "nbformat_minor": 4
}
