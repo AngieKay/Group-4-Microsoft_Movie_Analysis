{
 "cells": [
  {
   "cell_type": "code",
   "execution_count": 1,
   "metadata": {},
   "outputs": [
    {
     "name": "stdout",
     "output_type": "stream",
     "text": [
      "C:\\Users\\angie\\Desktop\\Course_Material\\Phase_1\\use_me\\Group-4-Microsoft_Movie_Analysis\n"
     ]
    }
   ],
   "source": [
    "cd .."
   ]
  },
  {
   "cell_type": "code",
   "execution_count": 2,
   "metadata": {},
   "outputs": [],
   "source": [
    "import seaborn as sns\n",
    "import pandas as pd\n",
    "from matplotlib import pyplot as plt\n",
    "import numpy as np"
   ]
  },
  {
   "cell_type": "code",
   "execution_count": 3,
   "metadata": {},
   "outputs": [],
   "source": [
    "df_budgets = pd.read_csv('data/zippedData/tn.movie_budgets.csv.gz')\n"
   ]
  },
  {
   "cell_type": "markdown",
   "metadata": {},
   "source": [
    "# Budget Data\n"
   ]
  },
  {
   "cell_type": "raw",
   "metadata": {},
   "source": [
    "The budgets dataframe comes from the public dataset on the-numbers.com that includes over 5000 movies from 1975 and their corresponding production budget, domestic gross and worldwide gross. "
   ]
  },
  {
   "cell_type": "code",
   "execution_count": 4,
   "metadata": {
    "scrolled": true
   },
   "outputs": [
    {
     "data": {
      "text/html": [
       "<div>\n",
       "<style scoped>\n",
       "    .dataframe tbody tr th:only-of-type {\n",
       "        vertical-align: middle;\n",
       "    }\n",
       "\n",
       "    .dataframe tbody tr th {\n",
       "        vertical-align: top;\n",
       "    }\n",
       "\n",
       "    .dataframe thead th {\n",
       "        text-align: right;\n",
       "    }\n",
       "</style>\n",
       "<table border=\"1\" class=\"dataframe\">\n",
       "  <thead>\n",
       "    <tr style=\"text-align: right;\">\n",
       "      <th></th>\n",
       "      <th>id</th>\n",
       "      <th>release_date</th>\n",
       "      <th>movie</th>\n",
       "      <th>production_budget</th>\n",
       "      <th>domestic_gross</th>\n",
       "      <th>worldwide_gross</th>\n",
       "    </tr>\n",
       "  </thead>\n",
       "  <tbody>\n",
       "    <tr>\n",
       "      <th>0</th>\n",
       "      <td>1</td>\n",
       "      <td>Dec 18, 2009</td>\n",
       "      <td>Avatar</td>\n",
       "      <td>$425,000,000</td>\n",
       "      <td>$760,507,625</td>\n",
       "      <td>$2,776,345,279</td>\n",
       "    </tr>\n",
       "    <tr>\n",
       "      <th>1</th>\n",
       "      <td>2</td>\n",
       "      <td>May 20, 2011</td>\n",
       "      <td>Pirates of the Caribbean: On Stranger Tides</td>\n",
       "      <td>$410,600,000</td>\n",
       "      <td>$241,063,875</td>\n",
       "      <td>$1,045,663,875</td>\n",
       "    </tr>\n",
       "    <tr>\n",
       "      <th>2</th>\n",
       "      <td>3</td>\n",
       "      <td>Jun 7, 2019</td>\n",
       "      <td>Dark Phoenix</td>\n",
       "      <td>$350,000,000</td>\n",
       "      <td>$42,762,350</td>\n",
       "      <td>$149,762,350</td>\n",
       "    </tr>\n",
       "    <tr>\n",
       "      <th>3</th>\n",
       "      <td>4</td>\n",
       "      <td>May 1, 2015</td>\n",
       "      <td>Avengers: Age of Ultron</td>\n",
       "      <td>$330,600,000</td>\n",
       "      <td>$459,005,868</td>\n",
       "      <td>$1,403,013,963</td>\n",
       "    </tr>\n",
       "  </tbody>\n",
       "</table>\n",
       "</div>"
      ],
      "text/plain": [
       "   id  release_date                                        movie  \\\n",
       "0   1  Dec 18, 2009                                       Avatar   \n",
       "1   2  May 20, 2011  Pirates of the Caribbean: On Stranger Tides   \n",
       "2   3   Jun 7, 2019                                 Dark Phoenix   \n",
       "3   4   May 1, 2015                      Avengers: Age of Ultron   \n",
       "\n",
       "  production_budget domestic_gross worldwide_gross  \n",
       "0      $425,000,000   $760,507,625  $2,776,345,279  \n",
       "1      $410,600,000   $241,063,875  $1,045,663,875  \n",
       "2      $350,000,000    $42,762,350    $149,762,350  \n",
       "3      $330,600,000   $459,005,868  $1,403,013,963  "
      ]
     },
     "execution_count": 4,
     "metadata": {},
     "output_type": "execute_result"
    }
   ],
   "source": [
    "df_budgets.head(4)"
   ]
  },
  {
   "cell_type": "markdown",
   "metadata": {},
   "source": [
    "# Data Cleaning"
   ]
  },
  {
   "cell_type": "raw",
   "metadata": {},
   "source": [
    "For the df_budgets file, we removed the dollar signs and commas from the three columns containing amounts of USD. Afterwards, we transformed these values from strings to integers so we could work with them mathematically.\n",
    "\n",
    "We then found the difference between worldwide gross and production budget and used it to create a new column displaying a film's total profit"
   ]
  },
  {
   "cell_type": "code",
   "execution_count": 5,
   "metadata": {},
   "outputs": [],
   "source": [
    "df_budgets['production_budget'] = df_budgets['production_budget'].str.replace('$','')\n",
    "df_budgets['domestic_gross'] = df_budgets['domestic_gross'].str.replace('$','')\n",
    "df_budgets['worldwide_gross'] = df_budgets['worldwide_gross'].str.replace('$','')\n",
    "df_budgets['production_budget'] = df_budgets['production_budget'].str.replace(',','')\n",
    "df_budgets['domestic_gross'] = df_budgets['domestic_gross'].str.replace(',','')\n",
    "df_budgets['worldwide_gross'] = df_budgets['worldwide_gross'].str.replace(',','')"
   ]
  },
  {
   "cell_type": "code",
   "execution_count": 6,
   "metadata": {},
   "outputs": [],
   "source": [
    "df_budgets['production_budget'] = df_budgets['production_budget'].astype(int)\n",
    "df_budgets['domestic_gross'] = df_budgets['domestic_gross'].astype(int)\n",
    "df_budgets['worldwide_gross'] = df_budgets['worldwide_gross'].astype('int64')\n",
    "\n",
    "df_budgets['total_profit'] = df_budgets['worldwide_gross'] - df_budgets['production_budget']"
   ]
  },
  {
   "cell_type": "raw",
   "metadata": {},
   "source": [
    "Afterwards, we created a new column that indicates the year the movie was made in, taken from the release_date column. Since we wanted our analysis to reflect the current public and did not want to account for inflation rates, we decided to only use data starting in 2010."
   ]
  },
  {
   "cell_type": "code",
   "execution_count": 7,
   "metadata": {},
   "outputs": [],
   "source": [
    "df_budgets['year'] = pd.DatetimeIndex(df_budgets['release_date']).year\n",
    "df_budgets = df_budgets.loc[df_budgets['year'] >= 2010]"
   ]
  },
  {
   "cell_type": "raw",
   "metadata": {},
   "source": [
    "We then created a return on investment column ('ROI %') that measures the ratio of overall profit compared to production budget."
   ]
  },
  {
   "cell_type": "code",
   "execution_count": 8,
   "metadata": {},
   "outputs": [],
   "source": [
    "df_budgets['ROI %'] = (df_budgets['total_profit'] / df_budgets['production_budget']) * 100"
   ]
  },
  {
   "cell_type": "markdown",
   "metadata": {},
   "source": [
    "# Worth Spending the Big Buck$?"
   ]
  },
  {
   "cell_type": "raw",
   "metadata": {},
   "source": [
    "To look at whether or not producing films with the most expensive budgets would be worth it, we created a new data frame that only included movies that had a production budget of $150 million or more. "
   ]
  },
  {
   "cell_type": "code",
   "execution_count": 9,
   "metadata": {},
   "outputs": [],
   "source": [
    "df_highbudget = df_budgets.loc[df_budgets['production_budget'] >= 150000000]"
   ]
  },
  {
   "cell_type": "code",
   "execution_count": 10,
   "metadata": {
    "scrolled": false
   },
   "outputs": [
    {
     "data": {
      "text/html": [
       "<div>\n",
       "<style scoped>\n",
       "    .dataframe tbody tr th:only-of-type {\n",
       "        vertical-align: middle;\n",
       "    }\n",
       "\n",
       "    .dataframe tbody tr th {\n",
       "        vertical-align: top;\n",
       "    }\n",
       "\n",
       "    .dataframe thead th {\n",
       "        text-align: right;\n",
       "    }\n",
       "</style>\n",
       "<table border=\"1\" class=\"dataframe\">\n",
       "  <thead>\n",
       "    <tr style=\"text-align: right;\">\n",
       "      <th></th>\n",
       "      <th>id</th>\n",
       "      <th>release_date</th>\n",
       "      <th>movie</th>\n",
       "      <th>production_budget</th>\n",
       "      <th>domestic_gross</th>\n",
       "      <th>worldwide_gross</th>\n",
       "      <th>total_profit</th>\n",
       "      <th>year</th>\n",
       "      <th>ROI %</th>\n",
       "    </tr>\n",
       "  </thead>\n",
       "  <tbody>\n",
       "    <tr>\n",
       "      <th>1</th>\n",
       "      <td>2</td>\n",
       "      <td>May 20, 2011</td>\n",
       "      <td>Pirates of the Caribbean: On Stranger Tides</td>\n",
       "      <td>410600000</td>\n",
       "      <td>241063875</td>\n",
       "      <td>1045663875</td>\n",
       "      <td>635063875</td>\n",
       "      <td>2011</td>\n",
       "      <td>154.667286</td>\n",
       "    </tr>\n",
       "    <tr>\n",
       "      <th>2</th>\n",
       "      <td>3</td>\n",
       "      <td>Jun 7, 2019</td>\n",
       "      <td>Dark Phoenix</td>\n",
       "      <td>350000000</td>\n",
       "      <td>42762350</td>\n",
       "      <td>149762350</td>\n",
       "      <td>-200237650</td>\n",
       "      <td>2019</td>\n",
       "      <td>-57.210757</td>\n",
       "    </tr>\n",
       "    <tr>\n",
       "      <th>3</th>\n",
       "      <td>4</td>\n",
       "      <td>May 1, 2015</td>\n",
       "      <td>Avengers: Age of Ultron</td>\n",
       "      <td>330600000</td>\n",
       "      <td>459005868</td>\n",
       "      <td>1403013963</td>\n",
       "      <td>1072413963</td>\n",
       "      <td>2015</td>\n",
       "      <td>324.384139</td>\n",
       "    </tr>\n",
       "    <tr>\n",
       "      <th>4</th>\n",
       "      <td>5</td>\n",
       "      <td>Dec 15, 2017</td>\n",
       "      <td>Star Wars Ep. VIII: The Last Jedi</td>\n",
       "      <td>317000000</td>\n",
       "      <td>620181382</td>\n",
       "      <td>1316721747</td>\n",
       "      <td>999721747</td>\n",
       "      <td>2017</td>\n",
       "      <td>315.369636</td>\n",
       "    </tr>\n",
       "    <tr>\n",
       "      <th>5</th>\n",
       "      <td>6</td>\n",
       "      <td>Dec 18, 2015</td>\n",
       "      <td>Star Wars Ep. VII: The Force Awakens</td>\n",
       "      <td>306000000</td>\n",
       "      <td>936662225</td>\n",
       "      <td>2053311220</td>\n",
       "      <td>1747311220</td>\n",
       "      <td>2015</td>\n",
       "      <td>571.016739</td>\n",
       "    </tr>\n",
       "  </tbody>\n",
       "</table>\n",
       "</div>"
      ],
      "text/plain": [
       "   id  release_date                                        movie  \\\n",
       "1   2  May 20, 2011  Pirates of the Caribbean: On Stranger Tides   \n",
       "2   3   Jun 7, 2019                                 Dark Phoenix   \n",
       "3   4   May 1, 2015                      Avengers: Age of Ultron   \n",
       "4   5  Dec 15, 2017            Star Wars Ep. VIII: The Last Jedi   \n",
       "5   6  Dec 18, 2015         Star Wars Ep. VII: The Force Awakens   \n",
       "\n",
       "   production_budget  domestic_gross  worldwide_gross  total_profit  year  \\\n",
       "1          410600000       241063875       1045663875     635063875  2011   \n",
       "2          350000000        42762350        149762350    -200237650  2019   \n",
       "3          330600000       459005868       1403013963    1072413963  2015   \n",
       "4          317000000       620181382       1316721747     999721747  2017   \n",
       "5          306000000       936662225       2053311220    1747311220  2015   \n",
       "\n",
       "        ROI %  \n",
       "1  154.667286  \n",
       "2  -57.210757  \n",
       "3  324.384139  \n",
       "4  315.369636  \n",
       "5  571.016739  "
      ]
     },
     "execution_count": 10,
     "metadata": {},
     "output_type": "execute_result"
    }
   ],
   "source": [
    "df_highbudget.head()"
   ]
  },
  {
   "cell_type": "raw",
   "metadata": {},
   "source": [
    "We considered a box office success anything with a return on investment of above 250% and a box office failure anything with a return on investment of below 150%. Anything in the middle is labeled as neutral. Of the 136 films reviewed, there were 59 sucesses and 50 failures."
   ]
  },
  {
   "cell_type": "code",
   "execution_count": 11,
   "metadata": {},
   "outputs": [
    {
     "name": "stderr",
     "output_type": "stream",
     "text": [
      "<ipython-input-11-12655acf0e7b>:1: SettingWithCopyWarning: \n",
      "A value is trying to be set on a copy of a slice from a DataFrame.\n",
      "Try using .loc[row_indexer,col_indexer] = value instead\n",
      "\n",
      "See the caveats in the documentation: https://pandas.pydata.org/pandas-docs/stable/user_guide/indexing.html#returning-a-view-versus-a-copy\n",
      "  df_highbudget['Box Office Success'] = np.where(df_highbudget['ROI %'] > 250, True, False)\n",
      "<ipython-input-11-12655acf0e7b>:2: SettingWithCopyWarning: \n",
      "A value is trying to be set on a copy of a slice from a DataFrame.\n",
      "Try using .loc[row_indexer,col_indexer] = value instead\n",
      "\n",
      "See the caveats in the documentation: https://pandas.pydata.org/pandas-docs/stable/user_guide/indexing.html#returning-a-view-versus-a-copy\n",
      "  df_highbudget['Box Office Failure'] = np.where(df_highbudget['ROI %'] < 150, True, False)\n"
     ]
    }
   ],
   "source": [
    "df_highbudget['Box Office Success'] = np.where(df_highbudget['ROI %'] > 250, True, False)\n",
    "df_highbudget['Box Office Failure'] = np.where(df_highbudget['ROI %'] < 150, True, False)"
   ]
  },
  {
   "cell_type": "code",
   "execution_count": 12,
   "metadata": {
    "scrolled": true
   },
   "outputs": [
    {
     "data": {
      "text/plain": [
       "False    77\n",
       "True     59\n",
       "Name: Box Office Success, dtype: int64"
      ]
     },
     "execution_count": 12,
     "metadata": {},
     "output_type": "execute_result"
    }
   ],
   "source": [
    "df_highbudget['Box Office Success'].value_counts()"
   ]
  },
  {
   "cell_type": "code",
   "execution_count": 13,
   "metadata": {
    "scrolled": true
   },
   "outputs": [
    {
     "data": {
      "text/plain": [
       "False    86\n",
       "True     50\n",
       "Name: Box Office Failure, dtype: int64"
      ]
     },
     "execution_count": 13,
     "metadata": {},
     "output_type": "execute_result"
    }
   ],
   "source": [
    "df_highbudget['Box Office Failure'].value_counts()"
   ]
  },
  {
   "cell_type": "code",
   "execution_count": 14,
   "metadata": {
    "scrolled": true
   },
   "outputs": [
    {
     "data": {
      "image/png": "[encoded data removed]",
      "text/plain": [
       "<Figure size 504x504 with 1 Axes>"
      ]
     },
     "metadata": {},
     "output_type": "display_data"
    }
   ],
   "source": [
    "labels = 'Box Office Bomb', 'Box Office Success', 'Neutral'\n",
    "amts = [50, 59, 27]\n",
    "\n",
    "fig, ax = plt.subplots(figsize=(7,7))\n",
    "ax.pie(amts, labels = labels, autopct='%1.1f%%', labeldistance=1.06)\n",
    "ax.axis('equal')\n",
    "\n",
    "plt.title('High Budget Films Success Rate');"
   ]
  },
  {
   "cell_type": "code",
   "execution_count": 15,
   "metadata": {
    "scrolled": true
   },
   "outputs": [
    {
     "data": {
      "image/png": "[encoded data removed]",
      "text/plain": [
       "<Figure size 576x576 with 1 Axes>"
      ]
     },
     "metadata": {
      "needs_background": "light"
     },
     "output_type": "display_data"
    }
   ],
   "source": [
    "fig, ax = plt.subplots(figsize = (8, 8))\n",
    "\n",
    "plt.scatter(df_highbudget['production_budget'], df_highbudget['ROI %'] )\n",
    "plt.xlabel('Budget (in 100s of millions)')\n",
    "plt.ylabel('ROI %')\n",
    "plt.axhline(y=0, color='r', linestyle='-')\n",
    "plt.axhline(y=250, color='g', linestyle='-');"
   ]
  },
  {
   "cell_type": "raw",
   "metadata": {},
   "source": [
    "Examining the high budget films that were successful, we noticed that a majority of these films were not stand alone movies. Most of the high budget films with high return value were sequels, prequels or part of an overarching 'superhero universe'.  From this we concluded that without an already popular franchise to fall back on, high budget films were a large risk to produce."
   ]
  },
  {
   "cell_type": "code",
   "execution_count": 16,
   "metadata": {
    "scrolled": true
   },
   "outputs": [
    {
     "data": {
      "text/html": [
       "<div>\n",
       "<style scoped>\n",
       "    .dataframe tbody tr th:only-of-type {\n",
       "        vertical-align: middle;\n",
       "    }\n",
       "\n",
       "    .dataframe tbody tr th {\n",
       "        vertical-align: top;\n",
       "    }\n",
       "\n",
       "    .dataframe thead th {\n",
       "        text-align: right;\n",
       "    }\n",
       "</style>\n",
       "<table border=\"1\" class=\"dataframe\">\n",
       "  <thead>\n",
       "    <tr style=\"text-align: right;\">\n",
       "      <th></th>\n",
       "      <th>id</th>\n",
       "      <th>release_date</th>\n",
       "      <th>movie</th>\n",
       "      <th>production_budget</th>\n",
       "      <th>domestic_gross</th>\n",
       "      <th>worldwide_gross</th>\n",
       "      <th>total_profit</th>\n",
       "      <th>year</th>\n",
       "      <th>ROI %</th>\n",
       "      <th>Box Office Success</th>\n",
       "      <th>Box Office Failure</th>\n",
       "    </tr>\n",
       "  </thead>\n",
       "  <tbody>\n",
       "    <tr>\n",
       "      <th>3</th>\n",
       "      <td>4</td>\n",
       "      <td>May 1, 2015</td>\n",
       "      <td>Avengers: Age of Ultron</td>\n",
       "      <td>330600000</td>\n",
       "      <td>459005868</td>\n",
       "      <td>1403013963</td>\n",
       "      <td>1072413963</td>\n",
       "      <td>2015</td>\n",
       "      <td>324.384139</td>\n",
       "      <td>True</td>\n",
       "      <td>False</td>\n",
       "    </tr>\n",
       "    <tr>\n",
       "      <th>4</th>\n",
       "      <td>5</td>\n",
       "      <td>Dec 15, 2017</td>\n",
       "      <td>Star Wars Ep. VIII: The Last Jedi</td>\n",
       "      <td>317000000</td>\n",
       "      <td>620181382</td>\n",
       "      <td>1316721747</td>\n",
       "      <td>999721747</td>\n",
       "      <td>2017</td>\n",
       "      <td>315.369636</td>\n",
       "      <td>True</td>\n",
       "      <td>False</td>\n",
       "    </tr>\n",
       "    <tr>\n",
       "      <th>5</th>\n",
       "      <td>6</td>\n",
       "      <td>Dec 18, 2015</td>\n",
       "      <td>Star Wars Ep. VII: The Force Awakens</td>\n",
       "      <td>306000000</td>\n",
       "      <td>936662225</td>\n",
       "      <td>2053311220</td>\n",
       "      <td>1747311220</td>\n",
       "      <td>2015</td>\n",
       "      <td>571.016739</td>\n",
       "      <td>True</td>\n",
       "      <td>False</td>\n",
       "    </tr>\n",
       "    <tr>\n",
       "      <th>6</th>\n",
       "      <td>7</td>\n",
       "      <td>Apr 27, 2018</td>\n",
       "      <td>Avengers: Infinity War</td>\n",
       "      <td>300000000</td>\n",
       "      <td>678815482</td>\n",
       "      <td>2048134200</td>\n",
       "      <td>1748134200</td>\n",
       "      <td>2018</td>\n",
       "      <td>582.711400</td>\n",
       "      <td>True</td>\n",
       "      <td>False</td>\n",
       "    </tr>\n",
       "  </tbody>\n",
       "</table>\n",
       "</div>"
      ],
      "text/plain": [
       "   id  release_date                                 movie  production_budget  \\\n",
       "3   4   May 1, 2015               Avengers: Age of Ultron          330600000   \n",
       "4   5  Dec 15, 2017     Star Wars Ep. VIII: The Last Jedi          317000000   \n",
       "5   6  Dec 18, 2015  Star Wars Ep. VII: The Force Awakens          306000000   \n",
       "6   7  Apr 27, 2018                Avengers: Infinity War          300000000   \n",
       "\n",
       "   domestic_gross  worldwide_gross  total_profit  year       ROI %  \\\n",
       "3       459005868       1403013963    1072413963  2015  324.384139   \n",
       "4       620181382       1316721747     999721747  2017  315.369636   \n",
       "5       936662225       2053311220    1747311220  2015  571.016739   \n",
       "6       678815482       2048134200    1748134200  2018  582.711400   \n",
       "\n",
       "   Box Office Success  Box Office Failure  \n",
       "3                True               False  \n",
       "4                True               False  \n",
       "5                True               False  \n",
       "6                True               False  "
      ]
     },
     "execution_count": 16,
     "metadata": {},
     "output_type": "execute_result"
    }
   ],
   "source": [
    "df_highbudget.loc[df_highbudget['Box Office Success'] == True].head(4)"
   ]
  },
  {
   "cell_type": "code",
   "execution_count": 17,
   "metadata": {
    "scrolled": true
   },
   "outputs": [],
   "source": [
    "df_hb_bos = df_highbudget.loc[df_highbudget['Box Office Success'] == True]"
   ]
  },
  {
   "cell_type": "code",
   "execution_count": 18,
   "metadata": {},
   "outputs": [
    {
     "name": "stderr",
     "output_type": "stream",
     "text": [
      "<ipython-input-18-207d04cda5a4>:3: SettingWithCopyWarning: \n",
      "A value is trying to be set on a copy of a slice from a DataFrame.\n",
      "Try using .loc[row_indexer,col_indexer] = value instead\n",
      "\n",
      "See the caveats in the documentation: https://pandas.pydata.org/pandas-docs/stable/user_guide/indexing.html#returning-a-view-versus-a-copy\n",
      "  df_hb_bos['Type'] = type_list\n",
      "<ipython-input-18-207d04cda5a4>:4: SettingWithCopyWarning: \n",
      "A value is trying to be set on a copy of a slice from a DataFrame.\n",
      "Try using .loc[row_indexer,col_indexer] = value instead\n",
      "\n",
      "See the caveats in the documentation: https://pandas.pydata.org/pandas-docs/stable/user_guide/indexing.html#returning-a-view-versus-a-copy\n",
      "  df_hb_bos['Subtype'] = subtype\n"
     ]
    }
   ],
   "source": [
    "type_list = ['Franchise', 'Franchise', 'Franchise', 'Franchise', 'Franchise', 'Franchise', 'Franchise', 'Franchise', 'Franchise', 'Franchise', 'Franchise', 'Franchise', 'Franchise', 'Franchise', 'Franchise', 'Franchise', 'Franchise', 'Franchise', 'Franchise', 'Franchise', 'Original', 'Franchise', 'Franchise', 'Franchise', 'Franchise', 'Franchise', 'Franchise', 'Franchise', 'Original', 'Franchise', 'Franchise', 'Franchise', 'Original', 'Original', 'Franchise', 'Franchise', 'Original', 'Franchise', 'Franchise', 'Franchise', 'Franchise', 'Franchise', 'Franchise', 'Franchise', 'Original', 'Original', 'Original', 'Franchise', 'Original', 'Franchise', 'Franchise', 'Franchise', 'Original', 'Original', 'Original', 'Franchise', 'Franchise', 'Franchise', 'Original']\n",
    "subtype = ['Marvel', 'Star Wars', 'Star Wars', 'Marvel', 'DC', 'Marvel', 'LOTR', 'LOTR', 'LOTR', 'Fast and Furious', 'Marvel', 'Jurassic Park', 'Transformers', 'Marvel', 'Incredibles', 'Star Wars', 'Finding Nemo', 'Toy Story', 'Marvel', 'Marvel', 'Live Action Remake', 'James Bond', 'Monsters Inc.', 'Marvel', 'Marvel', 'Transformers', 'Fast and Furious', 'Marvel', 'Live Action Remake', 'Harry Potter', 'Mission Impossible', 'Marvel', 'Live Action Remake', 'Animated', 'Marvel', 'DC', 'Animated', 'Jurassic Park', 'Marvel', 'Marvel', 'Marvel', 'Planet of the Apes', 'Shrek', 'Marvel', 'Animated', 'Original', 'Live Action Remake', 'DC', 'Original', 'Hunger Games', 'Fast and Furious', 'DC', 'Animated', 'Animated', 'Animated', 'Marvel', 'Mission Impossible', 'Kung Fu Panda', 'Original']\n",
    "df_hb_bos['Type'] = type_list\n",
    "df_hb_bos['Subtype'] = subtype"
   ]
  },
  {
   "cell_type": "code",
   "execution_count": 19,
   "metadata": {},
   "outputs": [
    {
     "data": {
      "text/plain": [
       "Text(0.5, 1.02, 'High Budget, High ROI Films by Type')"
      ]
     },
     "execution_count": 19,
     "metadata": {},
     "output_type": "execute_result"
    },
    {
     "data": {
      "image/png": "[encoded data removed]",
      "text/plain": [
       "<Figure size 720x612 with 1 Axes>"
      ]
     },
     "metadata": {},
     "output_type": "display_data"
    }
   ],
   "source": [
    "sns.set_style('white')\n",
    "df_hb_bos['Type'].value_counts().plot(kind = 'bar', figsize = (10, 8.5), rot = 0, color = 'blue')\n",
    "plt.ylabel('Film Count', labelpad = 14)\n",
    "plt.title('High Budget, High ROI Films by Type', y = 1.02)"
   ]
  },
  {
   "cell_type": "code",
   "execution_count": 20,
   "metadata": {},
   "outputs": [
    {
     "data": {
      "text/plain": [
       "Text(0.5, 1.02, 'High Budget, High ROI Films Franchise Breakdown')"
      ]
     },
     "execution_count": 20,
     "metadata": {},
     "output_type": "execute_result"
    },
    {
     "data": {
      "image/png": "[encoded data removed]",
      "text/plain": [
       "<Figure size 720x612 with 1 Axes>"
      ]
     },
     "metadata": {},
     "output_type": "display_data"
    }
   ],
   "source": [
    "franchise_only = df_hb_bos[df_hb_bos['Type'] == 'Franchise']\n",
    "\n",
    "sns.set(font_scale = 1.5)\n",
    "sns.set_style('white')\n",
    "franchise_only['Subtype'].value_counts().plot(kind = 'barh', figsize = (10, 8.5), rot = 0, color = 'blue')\n",
    "plt.xlabel('Film Count', labelpad = 14)\n",
    "plt.title('High Budget, High ROI Films Franchise Breakdown', y = 1.02)"
   ]
  },
  {
   "cell_type": "markdown",
   "metadata": {},
   "source": [
    "# ROI and Genre"
   ]
  },
  {
   "cell_type": "raw",
   "metadata": {},
   "source": [
    "To further examine which movies were producing the highest ROI's, we subsetted the budgets dataframe to only include the films with an ROI of over 1000."
   ]
  },
  {
   "cell_type": "code",
   "execution_count": 21,
   "metadata": {},
   "outputs": [],
   "source": [
    "highest_rois = df_budgets.loc[df_budgets['ROI %'] > 1000]\n"
   ]
  },
  {
   "cell_type": "code",
   "execution_count": 22,
   "metadata": {
    "scrolled": true
   },
   "outputs": [
    {
     "data": {
      "text/html": [
       "<div>\n",
       "<style scoped>\n",
       "    .dataframe tbody tr th:only-of-type {\n",
       "        vertical-align: middle;\n",
       "    }\n",
       "\n",
       "    .dataframe tbody tr th {\n",
       "        vertical-align: top;\n",
       "    }\n",
       "\n",
       "    .dataframe thead th {\n",
       "        text-align: right;\n",
       "    }\n",
       "</style>\n",
       "<table border=\"1\" class=\"dataframe\">\n",
       "  <thead>\n",
       "    <tr style=\"text-align: right;\">\n",
       "      <th></th>\n",
       "      <th>id</th>\n",
       "      <th>release_date</th>\n",
       "      <th>movie</th>\n",
       "      <th>production_budget</th>\n",
       "      <th>domestic_gross</th>\n",
       "      <th>worldwide_gross</th>\n",
       "      <th>total_profit</th>\n",
       "      <th>year</th>\n",
       "      <th>ROI %</th>\n",
       "    </tr>\n",
       "  </thead>\n",
       "  <tbody>\n",
       "    <tr>\n",
       "      <th>621</th>\n",
       "      <td>22</td>\n",
       "      <td>Jul 3, 2013</td>\n",
       "      <td>Despicable Me 2</td>\n",
       "      <td>76000000</td>\n",
       "      <td>368065385</td>\n",
       "      <td>975216835</td>\n",
       "      <td>899216835</td>\n",
       "      <td>2013</td>\n",
       "      <td>1183.180046</td>\n",
       "    </tr>\n",
       "    <tr>\n",
       "      <th>625</th>\n",
       "      <td>26</td>\n",
       "      <td>Jul 8, 2016</td>\n",
       "      <td>The Secret Life of Pets</td>\n",
       "      <td>75000000</td>\n",
       "      <td>368384330</td>\n",
       "      <td>886750534</td>\n",
       "      <td>811750534</td>\n",
       "      <td>2016</td>\n",
       "      <td>1082.334045</td>\n",
       "    </tr>\n",
       "    <tr>\n",
       "      <th>629</th>\n",
       "      <td>30</td>\n",
       "      <td>Jun 30, 2017</td>\n",
       "      <td>Despicable Me 3</td>\n",
       "      <td>75000000</td>\n",
       "      <td>264624300</td>\n",
       "      <td>1034727750</td>\n",
       "      <td>959727750</td>\n",
       "      <td>2017</td>\n",
       "      <td>1279.637000</td>\n",
       "    </tr>\n",
       "  </tbody>\n",
       "</table>\n",
       "</div>"
      ],
      "text/plain": [
       "     id  release_date                    movie  production_budget  \\\n",
       "621  22   Jul 3, 2013          Despicable Me 2           76000000   \n",
       "625  26   Jul 8, 2016  The Secret Life of Pets           75000000   \n",
       "629  30  Jun 30, 2017          Despicable Me 3           75000000   \n",
       "\n",
       "     domestic_gross  worldwide_gross  total_profit  year        ROI %  \n",
       "621       368065385        975216835     899216835  2013  1183.180046  \n",
       "625       368384330        886750534     811750534  2016  1082.334045  \n",
       "629       264624300       1034727750     959727750  2017  1279.637000  "
      ]
     },
     "execution_count": 22,
     "metadata": {},
     "output_type": "execute_result"
    }
   ],
   "source": [
    "highest_rois.head(3)"
   ]
  },
  {
   "cell_type": "raw",
   "metadata": {},
   "source": [
    "Using genre information from IMDB.com we created the below dictionary that displays the amount of films from each genre below"
   ]
  },
  {
   "cell_type": "code",
   "execution_count": 23,
   "metadata": {},
   "outputs": [],
   "source": [
    "genres_top100roi = {'Horror/Thriller': 45, 'Comedy' : 17, 'Drama/Romance' : 16, 'Musical' : 3, 'Animation' : 5, 'Sci-fi' : 5, 'Documentary' : 2, 'Sport' : 2, 'Adventure' : 1}"
   ]
  },
  {
   "cell_type": "code",
   "execution_count": 38,
   "metadata": {
    "scrolled": true
   },
   "outputs": [
    {
     "data": {
      "image/png": "[encoded data removed]",
      "text/plain": [
       "<Figure size 1080x576 with 1 Axes>"
      ]
     },
     "metadata": {},
     "output_type": "display_data"
    }
   ],
   "source": [
    "fig, ax = plt.subplots(figsize = (15, 8))\n",
    "\n",
    "plt.bar(range(len(genres_top100roi)), genres_top100roi.values(), align='center', color = 'b')\n",
    "plt.xticks(range(len(genres_top100roi)), list(genres_top100roi.keys()))\n",
    "\n",
    "\n",
    "plt.xlabel('Movie Genre')\n",
    "plt.ylabel('Amount of Films in top 100')\n",
    "plt.title('Genre Distribution of the Top 100 Films by ROI')\n",
    "\n",
    "plt.show()"
   ]
  },
  {
   "cell_type": "code",
   "execution_count": 36,
   "metadata": {},
   "outputs": [],
   "source": [
    "import matplotlib as mpl\n",
    "mpl.rcParams['font.size'] = 12"
   ]
  },
  {
   "cell_type": "code",
   "execution_count": null,
   "metadata": {},
   "outputs": [],
   "source": []
  }
 ],
 "metadata": {
  "kernelspec": {
   "display_name": "Python (learn-env)",
   "language": "python",
   "name": "learn-env"
  },
  "language_info": {
   "codemirror_mode": {
    "name": "ipython",
    "version": 3
   },
   "file_extension": ".py",
   "mimetype": "text/x-python",
   "name": "python",
   "nbconvert_exporter": "python",
   "pygments_lexer": "ipython3",
   "version": "3.8.5"
  }
 },
 "nbformat": 4,
 "nbformat_minor": 4
}
